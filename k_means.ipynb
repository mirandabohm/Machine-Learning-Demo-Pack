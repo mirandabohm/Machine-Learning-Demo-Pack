{
 "cells": [
  {
   "cell_type": "code",
   "execution_count": 1460,
   "metadata": {},
   "outputs": [
    {
     "name": "stdout",
     "output_type": "stream",
     "text": [
      "Once deleted, variables cannot be recovered. Proceed (y/[n])? y\n"
     ]
    }
   ],
   "source": [
    "%matplotlib inline \n",
    "%reset\n",
    "import pandas as pd \n",
    "import numpy as np\n",
    "import matplotlib.pyplot as plt\n",
    "import matplotlib.cm as cm\n",
    "from random import randint\n",
    "from math import sqrt"
   ]
  },
  {
   "cell_type": "code",
   "execution_count": 1461,
   "metadata": {},
   "outputs": [],
   "source": [
    "df = pd.read_csv('Data/mall_customers.csv')"
   ]
  },
  {
   "cell_type": "code",
   "execution_count": 1462,
   "metadata": {},
   "outputs": [
    {
     "data": {
      "text/html": [
       "<div>\n",
       "<style scoped>\n",
       "    .dataframe tbody tr th:only-of-type {\n",
       "        vertical-align: middle;\n",
       "    }\n",
       "\n",
       "    .dataframe tbody tr th {\n",
       "        vertical-align: top;\n",
       "    }\n",
       "\n",
       "    .dataframe thead th {\n",
       "        text-align: right;\n",
       "    }\n",
       "</style>\n",
       "<table border=\"1\" class=\"dataframe\">\n",
       "  <thead>\n",
       "    <tr style=\"text-align: right;\">\n",
       "      <th></th>\n",
       "      <th>CustomerID</th>\n",
       "      <th>Gender</th>\n",
       "      <th>Age</th>\n",
       "      <th>Annual Income (k$)</th>\n",
       "      <th>Spending Score (1-100)</th>\n",
       "    </tr>\n",
       "  </thead>\n",
       "  <tbody>\n",
       "    <tr>\n",
       "      <th>0</th>\n",
       "      <td>1</td>\n",
       "      <td>Male</td>\n",
       "      <td>19</td>\n",
       "      <td>15</td>\n",
       "      <td>39</td>\n",
       "    </tr>\n",
       "    <tr>\n",
       "      <th>1</th>\n",
       "      <td>2</td>\n",
       "      <td>Male</td>\n",
       "      <td>21</td>\n",
       "      <td>15</td>\n",
       "      <td>81</td>\n",
       "    </tr>\n",
       "    <tr>\n",
       "      <th>2</th>\n",
       "      <td>3</td>\n",
       "      <td>Female</td>\n",
       "      <td>20</td>\n",
       "      <td>16</td>\n",
       "      <td>6</td>\n",
       "    </tr>\n",
       "    <tr>\n",
       "      <th>3</th>\n",
       "      <td>4</td>\n",
       "      <td>Female</td>\n",
       "      <td>23</td>\n",
       "      <td>16</td>\n",
       "      <td>77</td>\n",
       "    </tr>\n",
       "    <tr>\n",
       "      <th>4</th>\n",
       "      <td>5</td>\n",
       "      <td>Female</td>\n",
       "      <td>31</td>\n",
       "      <td>17</td>\n",
       "      <td>40</td>\n",
       "    </tr>\n",
       "  </tbody>\n",
       "</table>\n",
       "</div>"
      ],
      "text/plain": [
       "   CustomerID  Gender  Age  Annual Income (k$)  Spending Score (1-100)\n",
       "0           1    Male   19                  15                      39\n",
       "1           2    Male   21                  15                      81\n",
       "2           3  Female   20                  16                       6\n",
       "3           4  Female   23                  16                      77\n",
       "4           5  Female   31                  17                      40"
      ]
     },
     "execution_count": 1462,
     "metadata": {},
     "output_type": "execute_result"
    }
   ],
   "source": [
    "df.head()"
   ]
  },
  {
   "cell_type": "code",
   "execution_count": 1463,
   "metadata": {},
   "outputs": [
    {
     "data": {
      "text/plain": [
       "(200, 5)"
      ]
     },
     "execution_count": 1463,
     "metadata": {},
     "output_type": "execute_result"
    }
   ],
   "source": [
    "df.shape\n",
    "# df = df.sample(frac=1)"
   ]
  },
  {
   "cell_type": "code",
   "execution_count": 1464,
   "metadata": {},
   "outputs": [
    {
     "data": {
      "text/html": [
       "<div>\n",
       "<style scoped>\n",
       "    .dataframe tbody tr th:only-of-type {\n",
       "        vertical-align: middle;\n",
       "    }\n",
       "\n",
       "    .dataframe tbody tr th {\n",
       "        vertical-align: top;\n",
       "    }\n",
       "\n",
       "    .dataframe thead th {\n",
       "        text-align: right;\n",
       "    }\n",
       "</style>\n",
       "<table border=\"1\" class=\"dataframe\">\n",
       "  <thead>\n",
       "    <tr style=\"text-align: right;\">\n",
       "      <th></th>\n",
       "      <th>CustomerID</th>\n",
       "      <th>Age</th>\n",
       "      <th>Annual Income (k$)</th>\n",
       "      <th>Spending Score (1-100)</th>\n",
       "    </tr>\n",
       "  </thead>\n",
       "  <tbody>\n",
       "    <tr>\n",
       "      <th>count</th>\n",
       "      <td>200.000000</td>\n",
       "      <td>200.000000</td>\n",
       "      <td>200.000000</td>\n",
       "      <td>200.000000</td>\n",
       "    </tr>\n",
       "    <tr>\n",
       "      <th>mean</th>\n",
       "      <td>100.500000</td>\n",
       "      <td>38.850000</td>\n",
       "      <td>60.560000</td>\n",
       "      <td>50.200000</td>\n",
       "    </tr>\n",
       "    <tr>\n",
       "      <th>std</th>\n",
       "      <td>57.879185</td>\n",
       "      <td>13.969007</td>\n",
       "      <td>26.264721</td>\n",
       "      <td>25.823522</td>\n",
       "    </tr>\n",
       "    <tr>\n",
       "      <th>min</th>\n",
       "      <td>1.000000</td>\n",
       "      <td>18.000000</td>\n",
       "      <td>15.000000</td>\n",
       "      <td>1.000000</td>\n",
       "    </tr>\n",
       "    <tr>\n",
       "      <th>25%</th>\n",
       "      <td>50.750000</td>\n",
       "      <td>28.750000</td>\n",
       "      <td>41.500000</td>\n",
       "      <td>34.750000</td>\n",
       "    </tr>\n",
       "    <tr>\n",
       "      <th>50%</th>\n",
       "      <td>100.500000</td>\n",
       "      <td>36.000000</td>\n",
       "      <td>61.500000</td>\n",
       "      <td>50.000000</td>\n",
       "    </tr>\n",
       "    <tr>\n",
       "      <th>75%</th>\n",
       "      <td>150.250000</td>\n",
       "      <td>49.000000</td>\n",
       "      <td>78.000000</td>\n",
       "      <td>73.000000</td>\n",
       "    </tr>\n",
       "    <tr>\n",
       "      <th>max</th>\n",
       "      <td>200.000000</td>\n",
       "      <td>70.000000</td>\n",
       "      <td>137.000000</td>\n",
       "      <td>99.000000</td>\n",
       "    </tr>\n",
       "  </tbody>\n",
       "</table>\n",
       "</div>"
      ],
      "text/plain": [
       "       CustomerID         Age  Annual Income (k$)  Spending Score (1-100)\n",
       "count  200.000000  200.000000          200.000000              200.000000\n",
       "mean   100.500000   38.850000           60.560000               50.200000\n",
       "std     57.879185   13.969007           26.264721               25.823522\n",
       "min      1.000000   18.000000           15.000000                1.000000\n",
       "25%     50.750000   28.750000           41.500000               34.750000\n",
       "50%    100.500000   36.000000           61.500000               50.000000\n",
       "75%    150.250000   49.000000           78.000000               73.000000\n",
       "max    200.000000   70.000000          137.000000               99.000000"
      ]
     },
     "execution_count": 1464,
     "metadata": {},
     "output_type": "execute_result"
    }
   ],
   "source": [
    "df.describe()"
   ]
  },
  {
   "cell_type": "code",
   "execution_count": 1465,
   "metadata": {},
   "outputs": [
    {
     "data": {
      "text/html": [
       "<div>\n",
       "<style scoped>\n",
       "    .dataframe tbody tr th:only-of-type {\n",
       "        vertical-align: middle;\n",
       "    }\n",
       "\n",
       "    .dataframe tbody tr th {\n",
       "        vertical-align: top;\n",
       "    }\n",
       "\n",
       "    .dataframe thead th {\n",
       "        text-align: right;\n",
       "    }\n",
       "</style>\n",
       "<table border=\"1\" class=\"dataframe\">\n",
       "  <thead>\n",
       "    <tr style=\"text-align: right;\">\n",
       "      <th></th>\n",
       "      <th>CustomerID</th>\n",
       "      <th>Gender</th>\n",
       "      <th>Age</th>\n",
       "      <th>Annual Income (k$)</th>\n",
       "      <th>Spending Score (1-100)</th>\n",
       "    </tr>\n",
       "  </thead>\n",
       "  <tbody>\n",
       "    <tr>\n",
       "      <th>0</th>\n",
       "      <td>1</td>\n",
       "      <td>Male</td>\n",
       "      <td>19</td>\n",
       "      <td>15</td>\n",
       "      <td>39</td>\n",
       "    </tr>\n",
       "    <tr>\n",
       "      <th>1</th>\n",
       "      <td>2</td>\n",
       "      <td>Male</td>\n",
       "      <td>21</td>\n",
       "      <td>15</td>\n",
       "      <td>81</td>\n",
       "    </tr>\n",
       "    <tr>\n",
       "      <th>2</th>\n",
       "      <td>3</td>\n",
       "      <td>Female</td>\n",
       "      <td>20</td>\n",
       "      <td>16</td>\n",
       "      <td>6</td>\n",
       "    </tr>\n",
       "    <tr>\n",
       "      <th>3</th>\n",
       "      <td>4</td>\n",
       "      <td>Female</td>\n",
       "      <td>23</td>\n",
       "      <td>16</td>\n",
       "      <td>77</td>\n",
       "    </tr>\n",
       "    <tr>\n",
       "      <th>4</th>\n",
       "      <td>5</td>\n",
       "      <td>Female</td>\n",
       "      <td>31</td>\n",
       "      <td>17</td>\n",
       "      <td>40</td>\n",
       "    </tr>\n",
       "  </tbody>\n",
       "</table>\n",
       "</div>"
      ],
      "text/plain": [
       "   CustomerID  Gender  Age  Annual Income (k$)  Spending Score (1-100)\n",
       "0           1    Male   19                  15                      39\n",
       "1           2    Male   21                  15                      81\n",
       "2           3  Female   20                  16                       6\n",
       "3           4  Female   23                  16                      77\n",
       "4           5  Female   31                  17                      40"
      ]
     },
     "execution_count": 1465,
     "metadata": {},
     "output_type": "execute_result"
    }
   ],
   "source": [
    "df.head()"
   ]
  },
  {
   "cell_type": "code",
   "execution_count": 1466,
   "metadata": {},
   "outputs": [
    {
     "name": "stdout",
     "output_type": "stream",
     "text": [
      "<class 'numpy.ndarray'> <class 'numpy.ndarray'>\n",
      "200\n"
     ]
    }
   ],
   "source": [
    "x = df['Age'].to_numpy()\n",
    "y = df['Annual Income (k$)'].to_numpy()\n",
    "\n",
    "print(type(x), type(y))\n",
    "print(len(x))"
   ]
  },
  {
   "cell_type": "code",
   "execution_count": 1467,
   "metadata": {},
   "outputs": [],
   "source": [
    "# Set maximum number of iterations and number of clusters \n",
    "max_iter = 1\n",
    "k = 4"
   ]
  },
  {
   "cell_type": "code",
   "execution_count": 1468,
   "metadata": {},
   "outputs": [
    {
     "name": "stdout",
     "output_type": "stream",
     "text": [
      "Centroid clusters:\n",
      "57 63\n",
      "35 89\n",
      "32 71\n",
      "23 55\n"
     ]
    }
   ],
   "source": [
    "# Choose random centers to start...\n",
    "k_x, k_y = [], []\n",
    "\n",
    "for i in range(k):\n",
    "    k_x.append(randint(20,60)*1)\n",
    "    k_y.append(randint(40,100)*1)\n",
    "\n",
    "print('Centroid clusters:')\n",
    "for j in range(k):\n",
    "    print(k_x[j], k_y[j])"
   ]
  },
  {
   "cell_type": "code",
   "execution_count": 1469,
   "metadata": {},
   "outputs": [
    {
     "data": {
      "text/plain": [
       "(5, 200)"
      ]
     },
     "execution_count": 1469,
     "metadata": {},
     "output_type": "execute_result"
    }
   ],
   "source": [
    "# Make an empty numpy array of size k x len(x) to store distances to centroids\n",
    "# Build in extra row for the minimum distance value\n",
    "d = np.zeros([k + 1, len(x)])\n",
    "d.shape"
   ]
  },
  {
   "cell_type": "code",
   "execution_count": 1470,
   "metadata": {},
   "outputs": [],
   "source": [
    "def find_distance(x, y, k_x, k_y):\n",
    "    '''Finds distances from each point to each center.\n",
    "    x,y are data, k_x, k_y are center coordinates'''\n",
    "    distance = sqrt((x - k_x)**2 + (y - k_y)**2)\n",
    "    return distance"
   ]
  },
  {
   "cell_type": "code",
   "execution_count": 1471,
   "metadata": {},
   "outputs": [
    {
     "data": {
      "image/png": "[encoded data removed]",
      "text/plain": [
       "<Figure size 432x288 with 1 Axes>"
      ]
     },
     "metadata": {
      "needs_background": "light"
     },
     "output_type": "display_data"
    }
   ],
   "source": [
    "# Visualize data \n",
    "plt.scatter(x, y, s = 5, color='black')\n",
    "plt.scatter(k_x, k_y, s = 30, color='red', marker='x')\n",
    "plt.title('Age vs. Income')\n",
    "plt.xlabel('Age (Years)')\n",
    "plt.ylabel('Income (Dollars)')\n",
    "plt.show()"
   ]
  },
  {
   "cell_type": "code",
   "execution_count": 1472,
   "metadata": {},
   "outputs": [
    {
     "name": "stdout",
     "output_type": "stream",
     "text": [
      "Datapoint: 0 , x: 19 , y: 15 , Minimum distance: 40.19950248448356 , Nearest_centroid: (23, 55)\n",
      "Datapoint: 1 , x: 21 , y: 15 , Minimum distance: 40.049968789001575 , Nearest_centroid: (23, 55)\n",
      "Datapoint: 2 , x: 20 , y: 16 , Minimum distance: 39.11521443121589 , Nearest_centroid: (23, 55)\n",
      "Datapoint: 3 , x: 23 , y: 16 , Minimum distance: 39.0 , Nearest_centroid: (23, 55)\n",
      "Datapoint: 4 , x: 31 , y: 17 , Minimum distance: 38.8329756778952 , Nearest_centroid: (23, 55)\n",
      "Datapoint: 5 , x: 22 , y: 17 , Minimum distance: 38.01315561749642 , Nearest_centroid: (23, 55)\n",
      "Datapoint: 6 , x: 35 , y: 18 , Minimum distance: 38.897300677553446 , Nearest_centroid: (23, 55)\n",
      "Datapoint: 7 , x: 23 , y: 18 , Minimum distance: 37.0 , Nearest_centroid: (23, 55)\n",
      "Datapoint: 8 , x: 64 , y: 19 , Minimum distance: 44.553338819890925 , Nearest_centroid: (57, 63)\n",
      "Datapoint: 9 , x: 30 , y: 19 , Minimum distance: 36.6742416417845 , Nearest_centroid: (23, 55)\n",
      "Datapoint: 10 , x: 67 , y: 19 , Minimum distance: 45.12205669071391 , Nearest_centroid: (57, 63)\n",
      "Datapoint: 11 , x: 35 , y: 19 , Minimum distance: 37.94733192202055 , Nearest_centroid: (23, 55)\n",
      "Datapoint: 12 , x: 58 , y: 20 , Minimum distance: 43.01162633521314 , Nearest_centroid: (57, 63)\n",
      "Datapoint: 13 , x: 24 , y: 20 , Minimum distance: 35.014282800023196 , Nearest_centroid: (23, 55)\n",
      "Datapoint: 14 , x: 37 , y: 20 , Minimum distance: 37.69615364994153 , Nearest_centroid: (23, 55)\n",
      "Datapoint: 15 , x: 22 , y: 20 , Minimum distance: 35.014282800023196 , Nearest_centroid: (23, 55)\n",
      "Datapoint: 16 , x: 35 , y: 21 , Minimum distance: 36.05551275463989 , Nearest_centroid: (23, 55)\n",
      "Datapoint: 17 , x: 20 , y: 21 , Minimum distance: 34.132096331752024 , Nearest_centroid: (23, 55)\n",
      "Datapoint: 18 , x: 52 , y: 23 , Minimum distance: 40.311288741492746 , Nearest_centroid: (57, 63)\n",
      "Datapoint: 19 , x: 35 , y: 23 , Minimum distance: 34.17601498127012 , Nearest_centroid: (23, 55)\n",
      "Datapoint: 20 , x: 35 , y: 24 , Minimum distance: 33.24154027718932 , Nearest_centroid: (23, 55)\n",
      "Datapoint: 21 , x: 25 , y: 24 , Minimum distance: 31.064449134018133 , Nearest_centroid: (23, 55)\n",
      "Datapoint: 22 , x: 46 , y: 25 , Minimum distance: 37.8021163428716 , Nearest_centroid: (23, 55)\n",
      "Datapoint: 23 , x: 31 , y: 25 , Minimum distance: 31.04834939252005 , Nearest_centroid: (23, 55)\n",
      "Datapoint: 24 , x: 54 , y: 28 , Minimum distance: 35.12833614050059 , Nearest_centroid: (57, 63)\n",
      "Datapoint: 25 , x: 29 , y: 28 , Minimum distance: 27.65863337187866 , Nearest_centroid: (23, 55)\n",
      "Datapoint: 26 , x: 45 , y: 28 , Minimum distance: 34.828149534535996 , Nearest_centroid: (23, 55)\n",
      "Datapoint: 27 , x: 35 , y: 28 , Minimum distance: 29.546573405388315 , Nearest_centroid: (23, 55)\n",
      "Datapoint: 28 , x: 40 , y: 29 , Minimum distance: 31.064449134018133 , Nearest_centroid: (23, 55)\n",
      "Datapoint: 29 , x: 23 , y: 29 , Minimum distance: 26.0 , Nearest_centroid: (23, 55)\n",
      "Datapoint: 30 , x: 60 , y: 30 , Minimum distance: 33.13608305156178 , Nearest_centroid: (57, 63)\n",
      "Datapoint: 31 , x: 21 , y: 30 , Minimum distance: 25.079872407968907 , Nearest_centroid: (23, 55)\n",
      "Datapoint: 32 , x: 53 , y: 33 , Minimum distance: 30.265491900843113 , Nearest_centroid: (57, 63)\n",
      "Datapoint: 33 , x: 18 , y: 33 , Minimum distance: 22.561028345356956 , Nearest_centroid: (23, 55)\n",
      "Datapoint: 34 , x: 49 , y: 33 , Minimum distance: 31.04834939252005 , Nearest_centroid: (57, 63)\n",
      "Datapoint: 35 , x: 21 , y: 33 , Minimum distance: 22.090722034374522 , Nearest_centroid: (23, 55)\n",
      "Datapoint: 36 , x: 42 , y: 34 , Minimum distance: 28.319604517012593 , Nearest_centroid: (23, 55)\n",
      "Datapoint: 37 , x: 30 , y: 34 , Minimum distance: 22.135943621178654 , Nearest_centroid: (23, 55)\n",
      "Datapoint: 38 , x: 36 , y: 37 , Minimum distance: 22.20360331117452 , Nearest_centroid: (23, 55)\n",
      "Datapoint: 39 , x: 20 , y: 37 , Minimum distance: 18.24828759089466 , Nearest_centroid: (23, 55)\n",
      "Datapoint: 40 , x: 65 , y: 38 , Minimum distance: 26.248809496813376 , Nearest_centroid: (57, 63)\n",
      "Datapoint: 41 , x: 24 , y: 38 , Minimum distance: 17.029386365926403 , Nearest_centroid: (23, 55)\n",
      "Datapoint: 42 , x: 48 , y: 39 , Minimum distance: 25.632011235952593 , Nearest_centroid: (57, 63)\n",
      "Datapoint: 43 , x: 31 , y: 39 , Minimum distance: 17.88854381999832 , Nearest_centroid: (23, 55)\n",
      "Datapoint: 44 , x: 49 , y: 39 , Minimum distance: 25.298221281347036 , Nearest_centroid: (57, 63)\n",
      "Datapoint: 45 , x: 24 , y: 39 , Minimum distance: 16.0312195418814 , Nearest_centroid: (23, 55)\n",
      "Datapoint: 46 , x: 50 , y: 40 , Minimum distance: 24.041630560342615 , Nearest_centroid: (57, 63)\n",
      "Datapoint: 47 , x: 27 , y: 40 , Minimum distance: 15.524174696260024 , Nearest_centroid: (23, 55)\n",
      "Datapoint: 48 , x: 29 , y: 40 , Minimum distance: 16.15549442140351 , Nearest_centroid: (23, 55)\n",
      "Datapoint: 49 , x: 31 , y: 40 , Minimum distance: 17.0 , Nearest_centroid: (23, 55)\n",
      "Datapoint: 50 , x: 49 , y: 42 , Minimum distance: 22.47220505424423 , Nearest_centroid: (57, 63)\n",
      "Datapoint: 51 , x: 33 , y: 42 , Minimum distance: 16.401219466856727 , Nearest_centroid: (23, 55)\n",
      "Datapoint: 52 , x: 31 , y: 43 , Minimum distance: 14.422205101855956 , Nearest_centroid: (23, 55)\n",
      "Datapoint: 53 , x: 59 , y: 43 , Minimum distance: 20.09975124224178 , Nearest_centroid: (57, 63)\n",
      "Datapoint: 54 , x: 50 , y: 43 , Minimum distance: 21.18962010041709 , Nearest_centroid: (57, 63)\n",
      "Datapoint: 55 , x: 47 , y: 43 , Minimum distance: 22.360679774997898 , Nearest_centroid: (57, 63)\n",
      "Datapoint: 56 , x: 51 , y: 44 , Minimum distance: 19.924858845171276 , Nearest_centroid: (57, 63)\n",
      "Datapoint: 57 , x: 69 , y: 44 , Minimum distance: 22.47220505424423 , Nearest_centroid: (57, 63)\n",
      "Datapoint: 58 , x: 27 , y: 46 , Minimum distance: 9.848857801796104 , Nearest_centroid: (23, 55)\n",
      "Datapoint: 59 , x: 53 , y: 46 , Minimum distance: 17.46424919657298 , Nearest_centroid: (57, 63)\n",
      "Datapoint: 60 , x: 70 , y: 46 , Minimum distance: 21.400934559032695 , Nearest_centroid: (57, 63)\n",
      "Datapoint: 61 , x: 19 , y: 46 , Minimum distance: 9.848857801796104 , Nearest_centroid: (23, 55)\n",
      "Datapoint: 62 , x: 67 , y: 47 , Minimum distance: 18.867962264113206 , Nearest_centroid: (57, 63)\n",
      "Datapoint: 63 , x: 54 , y: 47 , Minimum distance: 16.278820596099706 , Nearest_centroid: (57, 63)\n",
      "Datapoint: 64 , x: 63 , y: 48 , Minimum distance: 16.15549442140351 , Nearest_centroid: (57, 63)\n",
      "Datapoint: 65 , x: 18 , y: 48 , Minimum distance: 8.602325267042627 , Nearest_centroid: (23, 55)\n",
      "Datapoint: 66 , x: 43 , y: 48 , Minimum distance: 20.518284528683193 , Nearest_centroid: (57, 63)\n",
      "Datapoint: 67 , x: 68 , y: 48 , Minimum distance: 18.601075237738275 , Nearest_centroid: (57, 63)\n",
      "Datapoint: 68 , x: 19 , y: 48 , Minimum distance: 8.06225774829855 , Nearest_centroid: (23, 55)\n",
      "Datapoint: 69 , x: 32 , y: 48 , Minimum distance: 11.40175425099138 , Nearest_centroid: (23, 55)\n",
      "Datapoint: 70 , x: 70 , y: 49 , Minimum distance: 19.1049731745428 , Nearest_centroid: (57, 63)\n",
      "Datapoint: 71 , x: 47 , y: 49 , Minimum distance: 17.204650534085253 , Nearest_centroid: (57, 63)\n",
      "Datapoint: 72 , x: 60 , y: 50 , Minimum distance: 13.341664064126334 , Nearest_centroid: (57, 63)\n",
      "Datapoint: 73 , x: 60 , y: 50 , Minimum distance: 13.341664064126334 , Nearest_centroid: (57, 63)\n",
      "Datapoint: 74 , x: 59 , y: 54 , Minimum distance: 9.219544457292887 , Nearest_centroid: (57, 63)\n",
      "Datapoint: 75 , x: 26 , y: 54 , Minimum distance: 3.1622776601683795 , Nearest_centroid: (23, 55)\n",
      "Datapoint: 76 , x: 45 , y: 54 , Minimum distance: 15.0 , Nearest_centroid: (57, 63)\n",
      "Datapoint: 77 , x: 40 , y: 54 , Minimum distance: 17.029386365926403 , Nearest_centroid: (23, 55)\n",
      "Datapoint: 78 , x: 23 , y: 54 , Minimum distance: 1.0 , Nearest_centroid: (23, 55)\n",
      "Datapoint: 79 , x: 49 , y: 54 , Minimum distance: 12.041594578792296 , Nearest_centroid: (57, 63)\n",
      "Datapoint: 80 , x: 57 , y: 54 , Minimum distance: 9.0 , Nearest_centroid: (57, 63)\n",
      "Datapoint: 81 , x: 38 , y: 54 , Minimum distance: 15.033296378372908 , Nearest_centroid: (23, 55)\n",
      "Datapoint: 82 , x: 67 , y: 54 , Minimum distance: 13.45362404707371 , Nearest_centroid: (57, 63)\n",
      "Datapoint: 83 , x: 46 , y: 54 , Minimum distance: 14.212670403551895 , Nearest_centroid: (57, 63)\n",
      "Datapoint: 84 , x: 21 , y: 54 , Minimum distance: 2.23606797749979 , Nearest_centroid: (23, 55)\n",
      "Datapoint: 85 , x: 48 , y: 54 , Minimum distance: 12.727922061357855 , Nearest_centroid: (57, 63)\n",
      "Datapoint: 86 , x: 55 , y: 57 , Minimum distance: 6.324555320336759 , Nearest_centroid: (57, 63)\n",
      "Datapoint: 87 , x: 22 , y: 57 , Minimum distance: 2.23606797749979 , Nearest_centroid: (23, 55)\n",
      "Datapoint: 88 , x: 34 , y: 58 , Minimum distance: 11.40175425099138 , Nearest_centroid: (23, 55)\n",
      "Datapoint: 89 , x: 50 , y: 58 , Minimum distance: 8.602325267042627 , Nearest_centroid: (57, 63)\n",
      "Datapoint: 90 , x: 68 , y: 59 , Minimum distance: 11.704699910719626 , Nearest_centroid: (57, 63)\n",
      "Datapoint: 91 , x: 18 , y: 59 , Minimum distance: 6.4031242374328485 , Nearest_centroid: (23, 55)\n",
      "Datapoint: 92 , x: 48 , y: 60 , Minimum distance: 9.486832980505138 , Nearest_centroid: (57, 63)\n",
      "Datapoint: 93 , x: 40 , y: 60 , Minimum distance: 13.601470508735444 , Nearest_centroid: (32, 71)\n",
      "Datapoint: 94 , x: 32 , y: 60 , Minimum distance: 10.295630140987 , Nearest_centroid: (23, 55)\n",
      "Datapoint: 95 , x: 24 , y: 60 , Minimum distance: 5.0990195135927845 , Nearest_centroid: (23, 55)\n",
      "Datapoint: 96 , x: 47 , y: 60 , Minimum distance: 10.44030650891055 , Nearest_centroid: (57, 63)\n",
      "Datapoint: 97 , x: 27 , y: 60 , Minimum distance: 6.4031242374328485 , Nearest_centroid: (23, 55)\n",
      "Datapoint: 98 , x: 48 , y: 61 , Minimum distance: 9.219544457292887 , Nearest_centroid: (57, 63)\n",
      "Datapoint: 99 , x: 20 , y: 61 , Minimum distance: 6.708203932499369 , Nearest_centroid: (23, 55)\n",
      "Datapoint: 100 , x: 23 , y: 62 , Minimum distance: 7.0 , Nearest_centroid: (23, 55)\n",
      "Datapoint: 101 , x: 49 , y: 62 , Minimum distance: 8.06225774829855 , Nearest_centroid: (57, 63)\n",
      "Datapoint: 102 , x: 67 , y: 62 , Minimum distance: 10.04987562112089 , Nearest_centroid: (57, 63)\n",
      "Datapoint: 103 , x: 26 , y: 62 , Minimum distance: 7.615773105863909 , Nearest_centroid: (23, 55)\n",
      "Datapoint: 104 , x: 49 , y: 62 , Minimum distance: 8.06225774829855 , Nearest_centroid: (57, 63)\n",
      "Datapoint: 105 , x: 21 , y: 62 , Minimum distance: 7.280109889280518 , Nearest_centroid: (23, 55)\n",
      "Datapoint: 106 , x: 66 , y: 63 , Minimum distance: 9.0 , Nearest_centroid: (57, 63)\n",
      "Datapoint: 107 , x: 54 , y: 63 , Minimum distance: 3.0 , Nearest_centroid: (57, 63)\n",
      "Datapoint: 108 , x: 68 , y: 63 , Minimum distance: 11.0 , Nearest_centroid: (57, 63)\n",
      "Datapoint: 109 , x: 66 , y: 63 , Minimum distance: 9.0 , Nearest_centroid: (57, 63)\n",
      "Datapoint: 110 , x: 65 , y: 63 , Minimum distance: 8.0 , Nearest_centroid: (57, 63)\n",
      "Datapoint: 111 , x: 19 , y: 63 , Minimum distance: 8.94427190999916 , Nearest_centroid: (23, 55)\n",
      "Datapoint: 112 , x: 38 , y: 64 , Minimum distance: 9.219544457292887 , Nearest_centroid: (32, 71)\n",
      "Datapoint: 113 , x: 19 , y: 64 , Minimum distance: 9.848857801796104 , Nearest_centroid: (23, 55)\n",
      "Datapoint: 114 , x: 18 , y: 65 , Minimum distance: 11.180339887498949 , Nearest_centroid: (23, 55)\n",
      "Datapoint: 115 , x: 19 , y: 65 , Minimum distance: 10.770329614269007 , Nearest_centroid: (23, 55)\n",
      "Datapoint: 116 , x: 63 , y: 65 , Minimum distance: 6.324555320336759 , Nearest_centroid: (57, 63)\n",
      "Datapoint: 117 , x: 49 , y: 65 , Minimum distance: 8.246211251235321 , Nearest_centroid: (57, 63)\n",
      "Datapoint: 118 , x: 51 , y: 67 , Minimum distance: 7.211102550927978 , Nearest_centroid: (57, 63)\n",
      "Datapoint: 119 , x: 50 , y: 67 , Minimum distance: 8.06225774829855 , Nearest_centroid: (57, 63)\n",
      "Datapoint: 120 , x: 27 , y: 67 , Minimum distance: 6.4031242374328485 , Nearest_centroid: (32, 71)\n",
      "Datapoint: 121 , x: 38 , y: 67 , Minimum distance: 7.211102550927978 , Nearest_centroid: (32, 71)\n",
      "Datapoint: 122 , x: 40 , y: 69 , Minimum distance: 8.246211251235321 , Nearest_centroid: (32, 71)\n",
      "Datapoint: 123 , x: 39 , y: 69 , Minimum distance: 7.280109889280518 , Nearest_centroid: (32, 71)\n",
      "Datapoint: 124 , x: 23 , y: 70 , Minimum distance: 9.055385138137417 , Nearest_centroid: (32, 71)\n",
      "Datapoint: 125 , x: 31 , y: 70 , Minimum distance: 1.4142135623730951 , Nearest_centroid: (32, 71)\n",
      "Datapoint: 126 , x: 43 , y: 71 , Minimum distance: 11.0 , Nearest_centroid: (32, 71)\n",
      "Datapoint: 127 , x: 40 , y: 71 , Minimum distance: 8.0 , Nearest_centroid: (32, 71)\n",
      "Datapoint: 128 , x: 59 , y: 71 , Minimum distance: 8.246211251235321 , Nearest_centroid: (57, 63)\n",
      "Datapoint: 129 , x: 38 , y: 71 , Minimum distance: 6.0 , Nearest_centroid: (32, 71)\n",
      "Datapoint: 130 , x: 47 , y: 71 , Minimum distance: 12.806248474865697 , Nearest_centroid: (57, 63)\n",
      "Datapoint: 131 , x: 39 , y: 71 , Minimum distance: 7.0 , Nearest_centroid: (32, 71)\n",
      "Datapoint: 132 , x: 25 , y: 72 , Minimum distance: 7.0710678118654755 , Nearest_centroid: (32, 71)\n",
      "Datapoint: 133 , x: 31 , y: 72 , Minimum distance: 1.4142135623730951 , Nearest_centroid: (32, 71)\n",
      "Datapoint: 134 , x: 20 , y: 73 , Minimum distance: 12.165525060596439 , Nearest_centroid: (32, 71)\n",
      "Datapoint: 135 , x: 29 , y: 73 , Minimum distance: 3.605551275463989 , Nearest_centroid: (32, 71)\n",
      "Datapoint: 136 , x: 44 , y: 73 , Minimum distance: 12.165525060596439 , Nearest_centroid: (32, 71)\n",
      "Datapoint: 137 , x: 32 , y: 73 , Minimum distance: 2.0 , Nearest_centroid: (32, 71)\n",
      "Datapoint: 138 , x: 19 , y: 74 , Minimum distance: 13.341664064126334 , Nearest_centroid: (32, 71)\n",
      "Datapoint: 139 , x: 35 , y: 74 , Minimum distance: 4.242640687119285 , Nearest_centroid: (32, 71)\n",
      "Datapoint: 140 , x: 57 , y: 75 , Minimum distance: 12.0 , Nearest_centroid: (57, 63)\n",
      "Datapoint: 141 , x: 32 , y: 75 , Minimum distance: 4.0 , Nearest_centroid: (32, 71)\n",
      "Datapoint: 142 , x: 28 , y: 76 , Minimum distance: 6.4031242374328485 , Nearest_centroid: (32, 71)\n",
      "Datapoint: 143 , x: 32 , y: 76 , Minimum distance: 5.0 , Nearest_centroid: (32, 71)\n",
      "Datapoint: 144 , x: 25 , y: 77 , Minimum distance: 9.219544457292887 , Nearest_centroid: (32, 71)\n",
      "Datapoint: 145 , x: 28 , y: 77 , Minimum distance: 7.211102550927978 , Nearest_centroid: (32, 71)\n",
      "Datapoint: 146 , x: 48 , y: 77 , Minimum distance: 16.64331697709324 , Nearest_centroid: (57, 63)\n",
      "Datapoint: 147 , x: 32 , y: 77 , Minimum distance: 6.0 , Nearest_centroid: (32, 71)\n",
      "Datapoint: 148 , x: 34 , y: 78 , Minimum distance: 7.280109889280518 , Nearest_centroid: (32, 71)\n",
      "Datapoint: 149 , x: 34 , y: 78 , Minimum distance: 7.280109889280518 , Nearest_centroid: (32, 71)\n",
      "Datapoint: 150 , x: 43 , y: 78 , Minimum distance: 13.038404810405298 , Nearest_centroid: (32, 71)\n",
      "Datapoint: 151 , x: 39 , y: 78 , Minimum distance: 9.899494936611665 , Nearest_centroid: (32, 71)\n",
      "Datapoint: 152 , x: 44 , y: 78 , Minimum distance: 13.892443989449804 , Nearest_centroid: (32, 71)\n",
      "Datapoint: 153 , x: 38 , y: 78 , Minimum distance: 9.219544457292887 , Nearest_centroid: (32, 71)\n",
      "Datapoint: 154 , x: 47 , y: 78 , Minimum distance: 16.278820596099706 , Nearest_centroid: (35, 89)\n",
      "Datapoint: 155 , x: 27 , y: 78 , Minimum distance: 8.602325267042627 , Nearest_centroid: (32, 71)\n",
      "Datapoint: 156 , x: 37 , y: 78 , Minimum distance: 8.602325267042627 , Nearest_centroid: (32, 71)\n"
     ]
    },
    {
     "name": "stdout",
     "output_type": "stream",
     "text": [
      "Datapoint: 157 , x: 30 , y: 78 , Minimum distance: 7.280109889280518 , Nearest_centroid: (32, 71)\n",
      "Datapoint: 158 , x: 34 , y: 78 , Minimum distance: 7.280109889280518 , Nearest_centroid: (32, 71)\n",
      "Datapoint: 159 , x: 30 , y: 78 , Minimum distance: 7.280109889280518 , Nearest_centroid: (32, 71)\n",
      "Datapoint: 160 , x: 56 , y: 79 , Minimum distance: 16.0312195418814 , Nearest_centroid: (57, 63)\n",
      "Datapoint: 161 , x: 29 , y: 79 , Minimum distance: 8.54400374531753 , Nearest_centroid: (32, 71)\n",
      "Datapoint: 162 , x: 19 , y: 81 , Minimum distance: 16.401219466856727 , Nearest_centroid: (32, 71)\n",
      "Datapoint: 163 , x: 31 , y: 81 , Minimum distance: 8.94427190999916 , Nearest_centroid: (35, 89)\n",
      "Datapoint: 164 , x: 50 , y: 85 , Minimum distance: 15.524174696260024 , Nearest_centroid: (35, 89)\n",
      "Datapoint: 165 , x: 36 , y: 85 , Minimum distance: 4.123105625617661 , Nearest_centroid: (35, 89)\n",
      "Datapoint: 166 , x: 42 , y: 86 , Minimum distance: 7.615773105863909 , Nearest_centroid: (35, 89)\n",
      "Datapoint: 167 , x: 33 , y: 86 , Minimum distance: 3.605551275463989 , Nearest_centroid: (35, 89)\n",
      "Datapoint: 168 , x: 36 , y: 87 , Minimum distance: 2.23606797749979 , Nearest_centroid: (35, 89)\n",
      "Datapoint: 169 , x: 32 , y: 87 , Minimum distance: 3.605551275463989 , Nearest_centroid: (35, 89)\n",
      "Datapoint: 170 , x: 40 , y: 87 , Minimum distance: 5.385164807134504 , Nearest_centroid: (35, 89)\n",
      "Datapoint: 171 , x: 28 , y: 87 , Minimum distance: 7.280109889280518 , Nearest_centroid: (35, 89)\n",
      "Datapoint: 172 , x: 36 , y: 87 , Minimum distance: 2.23606797749979 , Nearest_centroid: (35, 89)\n",
      "Datapoint: 173 , x: 36 , y: 87 , Minimum distance: 2.23606797749979 , Nearest_centroid: (35, 89)\n",
      "Datapoint: 174 , x: 52 , y: 88 , Minimum distance: 17.029386365926403 , Nearest_centroid: (35, 89)\n",
      "Datapoint: 175 , x: 30 , y: 88 , Minimum distance: 5.0990195135927845 , Nearest_centroid: (35, 89)\n",
      "Datapoint: 176 , x: 58 , y: 88 , Minimum distance: 23.021728866442675 , Nearest_centroid: (35, 89)\n",
      "Datapoint: 177 , x: 27 , y: 88 , Minimum distance: 8.06225774829855 , Nearest_centroid: (35, 89)\n",
      "Datapoint: 178 , x: 59 , y: 93 , Minimum distance: 24.331050121192877 , Nearest_centroid: (35, 89)\n",
      "Datapoint: 179 , x: 35 , y: 93 , Minimum distance: 4.0 , Nearest_centroid: (35, 89)\n",
      "Datapoint: 180 , x: 37 , y: 97 , Minimum distance: 8.246211251235321 , Nearest_centroid: (35, 89)\n",
      "Datapoint: 181 , x: 32 , y: 97 , Minimum distance: 8.54400374531753 , Nearest_centroid: (35, 89)\n",
      "Datapoint: 182 , x: 46 , y: 98 , Minimum distance: 14.212670403551895 , Nearest_centroid: (35, 89)\n",
      "Datapoint: 183 , x: 29 , y: 98 , Minimum distance: 10.816653826391969 , Nearest_centroid: (35, 89)\n",
      "Datapoint: 184 , x: 41 , y: 99 , Minimum distance: 11.661903789690601 , Nearest_centroid: (35, 89)\n",
      "Datapoint: 185 , x: 30 , y: 99 , Minimum distance: 11.180339887498949 , Nearest_centroid: (35, 89)\n",
      "Datapoint: 186 , x: 54 , y: 101 , Minimum distance: 22.47220505424423 , Nearest_centroid: (35, 89)\n",
      "Datapoint: 187 , x: 28 , y: 101 , Minimum distance: 13.892443989449804 , Nearest_centroid: (35, 89)\n",
      "Datapoint: 188 , x: 41 , y: 103 , Minimum distance: 15.231546211727817 , Nearest_centroid: (35, 89)\n",
      "Datapoint: 189 , x: 36 , y: 103 , Minimum distance: 14.035668847618199 , Nearest_centroid: (35, 89)\n",
      "Datapoint: 190 , x: 34 , y: 103 , Minimum distance: 14.035668847618199 , Nearest_centroid: (35, 89)\n",
      "Datapoint: 191 , x: 32 , y: 103 , Minimum distance: 14.317821063276353 , Nearest_centroid: (35, 89)\n",
      "Datapoint: 192 , x: 33 , y: 113 , Minimum distance: 24.08318915758459 , Nearest_centroid: (35, 89)\n",
      "Datapoint: 193 , x: 38 , y: 113 , Minimum distance: 24.186773244895647 , Nearest_centroid: (35, 89)\n",
      "Datapoint: 194 , x: 47 , y: 120 , Minimum distance: 33.24154027718932 , Nearest_centroid: (35, 89)\n",
      "Datapoint: 195 , x: 35 , y: 120 , Minimum distance: 31.0 , Nearest_centroid: (35, 89)\n",
      "Datapoint: 196 , x: 45 , y: 126 , Minimum distance: 38.3275357934736 , Nearest_centroid: (35, 89)\n",
      "Datapoint: 197 , x: 32 , y: 126 , Minimum distance: 37.12142238654117 , Nearest_centroid: (35, 89)\n",
      "Datapoint: 198 , x: 32 , y: 137 , Minimum distance: 48.093658625644196 , Nearest_centroid: (35, 89)\n",
      "Datapoint: 199 , x: 30 , y: 137 , Minimum distance: 48.25971404805462 , Nearest_centroid: (35, 89)\n"
     ]
    }
   ],
   "source": [
    "# Iteratively find the distance between every point and every center. \n",
    "# Construct array d containing distances from every point to every centroid\n",
    "# Rows (except last) = distances from data points to each centroid k_n\n",
    "# Last Row of d = min(column), ie distances of data points to closes centroid\n",
    "# Col of d = distance from datapoint m to each centroid k_n, min is last row\n",
    "\n",
    "clusters = {}\n",
    "\n",
    "for iteration in range(0, max_iter): #number iterations\n",
    "    for j in range(len(x)): #200\n",
    "        min_distance = 9999999999\n",
    "        x_i, y_i = x[j], y[j] # Choose the x, y coords of the data point in question\n",
    "        for i in range(0, k): #k = number of clusters, 4\n",
    "            k_xi, k_yi = k_x[i], k_y[i] # Coordinates of the centroids \n",
    "            distance = find_distance(x_i, y_i, k_xi, k_yi)\n",
    "            if distance < min_distance:\n",
    "                min_distance = distance \n",
    "                centroid_coords = k_xi, k_yi\n",
    "            d[i,j] = distance\n",
    "        \n",
    "        try: \n",
    "            clusters[centroid_coords].append(tuple([x_i, y_i]))\n",
    "        except KeyError:\n",
    "            clusters[centroid_coords] = [tuple([x_i, y_i])]\n",
    "        \n",
    "        # Dict of data points belonging to which centroid\n",
    "        print(\"Datapoint:\",j,\", x:\",x_i,\", y:\",y_i,\", Minimum distance:\",min_distance, \", Nearest_centroid:\", centroid_coords)\n",
    "        \n",
    "        col = d[:k,j]\n",
    "        alt_min_distance = np.amin(col)\n",
    "        d[k,j] = alt_min_distance\n"
   ]
  },
  {
   "cell_type": "code",
   "execution_count": 1473,
   "metadata": {},
   "outputs": [
    {
     "name": "stdout",
     "output_type": "stream",
     "text": [
      "Number of entries in clusters dict: 4 ; Keys: dict_keys([(23, 55), (57, 63), (32, 71), (35, 89)])\n",
      "Centroid coords:\n",
      "57 63\n",
      "35 89\n",
      "32 71\n",
      "23 55\n"
     ]
    }
   ],
   "source": [
    "print(\"Number of entries in clusters dict:\",len(clusters), \"; Keys:\",clusters.keys())\n",
    "print(\"Centroid coords:\")\n",
    "for i in range(k):\n",
    "    print(k_x[i], k_y[i])"
   ]
  },
  {
   "cell_type": "code",
   "execution_count": 1474,
   "metadata": {},
   "outputs": [],
   "source": [
    "def mean(lst):\n",
    "\n",
    "    return sum(lst)/len(lst)"
   ]
  },
  {
   "cell_type": "code",
   "execution_count": 1475,
   "metadata": {},
   "outputs": [
    {
     "name": "stdout",
     "output_type": "stream",
     "text": [
      "[(55.932203389830505, 51.16949152542373), (37.89473684210526, 98.8157894736842), (32.97435897435897, 73.84615384615384), (27.25, 38.40625)]\n"
     ]
    }
   ],
   "source": [
    "centers = []\n",
    "for i in range(k):\n",
    "    m_x = 0\n",
    "    m_y = 0\n",
    "    items = 0\n",
    "    for coord in clusters[k_x[i], k_y[i]]:\n",
    "        items +=1 \n",
    "        m_x += coord[0]\n",
    "        m_y += coord[1]\n",
    "    m_x = m_x/items\n",
    "    m_y = m_y/items\n",
    "    centers.append((m_x,m_y))\n",
    "\n",
    "print(centers)"
   ]
  },
  {
   "cell_type": "code",
   "execution_count": 1476,
   "metadata": {},
   "outputs": [
    {
     "data": {
      "image/png": "[encoded data removed]",
      "text/plain": [
       "<Figure size 432x288 with 1 Axes>"
      ]
     },
     "metadata": {
      "needs_background": "light"
     },
     "output_type": "display_data"
    }
   ],
   "source": [
    "# Visualize data \n",
    "colors = ['turquoise', 'blueviolet', 'gold', 'pink']\n",
    "\n",
    "i = 0\n",
    "for i in range(k):\n",
    "    for coord in clusters[k_x[i], k_y[i]]:\n",
    "        plt.scatter(coord[0], coord[1], color=colors[i], edgecolor='grey')\n",
    "        plt.scatter(centers[i][0], centers[i][1], color = 'red', marker='x')\n",
    "    \n",
    "# plt.scatter(k_x, k_y, s = 30, color='red', marker='x')\n",
    "plt.title('Age vs. Income')\n",
    "plt.show()"
   ]
  },
  {
   "cell_type": "code",
   "execution_count": 1477,
   "metadata": {},
   "outputs": [
    {
     "name": "stdout",
     "output_type": "stream",
     "text": [
      "[57, 35, 32, 23]\n",
      "{(23, 55): [(19, 15), (21, 15), (20, 16), (23, 16), (31, 17), (22, 17), (35, 18), (23, 18), (30, 19), (35, 19), (24, 20), (37, 20), (22, 20), (35, 21), (20, 21), (35, 23), (35, 24), (25, 24), (46, 25), (31, 25), (29, 28), (45, 28), (35, 28), (40, 29), (23, 29), (21, 30), (18, 33), (21, 33), (42, 34), (30, 34), (36, 37), (20, 37), (24, 38), (31, 39), (24, 39), (27, 40), (29, 40), (31, 40), (33, 42), (31, 43), (27, 46), (19, 46), (18, 48), (19, 48), (32, 48), (26, 54), (40, 54), (23, 54), (38, 54), (21, 54), (22, 57), (34, 58), (18, 59), (32, 60), (24, 60), (27, 60), (20, 61), (23, 62), (26, 62), (21, 62), (19, 63), (19, 64), (18, 65), (19, 65)], (57, 63): [(64, 19), (67, 19), (58, 20), (52, 23), (54, 28), (60, 30), (53, 33), (49, 33), (65, 38), (48, 39), (49, 39), (50, 40), (49, 42), (59, 43), (50, 43), (47, 43), (51, 44), (69, 44), (53, 46), (70, 46), (67, 47), (54, 47), (63, 48), (43, 48), (68, 48), (70, 49), (47, 49), (60, 50), (60, 50), (59, 54), (45, 54), (49, 54), (57, 54), (67, 54), (46, 54), (48, 54), (55, 57), (50, 58), (68, 59), (48, 60), (47, 60), (48, 61), (49, 62), (67, 62), (49, 62), (66, 63), (54, 63), (68, 63), (66, 63), (65, 63), (63, 65), (49, 65), (51, 67), (50, 67), (59, 71), (47, 71), (57, 75), (48, 77), (56, 79)], (32, 71): [(40, 60), (38, 64), (27, 67), (38, 67), (40, 69), (39, 69), (23, 70), (31, 70), (43, 71), (40, 71), (38, 71), (39, 71), (25, 72), (31, 72), (20, 73), (29, 73), (44, 73), (32, 73), (19, 74), (35, 74), (32, 75), (28, 76), (32, 76), (25, 77), (28, 77), (32, 77), (34, 78), (34, 78), (43, 78), (39, 78), (44, 78), (38, 78), (27, 78), (37, 78), (30, 78), (34, 78), (30, 78), (29, 79), (19, 81)], (35, 89): [(47, 78), (31, 81), (50, 85), (36, 85), (42, 86), (33, 86), (36, 87), (32, 87), (40, 87), (28, 87), (36, 87), (36, 87), (52, 88), (30, 88), (58, 88), (27, 88), (59, 93), (35, 93), (37, 97), (32, 97), (46, 98), (29, 98), (41, 99), (30, 99), (54, 101), (28, 101), (41, 103), (36, 103), (34, 103), (32, 103), (33, 113), (38, 113), (47, 120), (35, 120), (45, 126), (32, 126), (32, 137), (30, 137)]}\n"
     ]
    }
   ],
   "source": [
    "print(k_x)\n",
    "print(clusters)\n",
    "\n",
    "# avg_x = sum(k_x[0])/len(k_x[0])\n",
    "# avg_y = sum(k_y[0])/len(k_y[0])\n",
    "# print('Mean_x:', avg_x, 'Mean_y:',avg_y)"
   ]
  },
  {
   "cell_type": "code",
   "execution_count": null,
   "metadata": {},
   "outputs": [],
   "source": []
  },
  {
   "cell_type": "code",
   "execution_count": null,
   "metadata": {},
   "outputs": [],
   "source": []
  },
  {
   "cell_type": "code",
   "execution_count": null,
   "metadata": {},
   "outputs": [],
   "source": []
  },
  {
   "cell_type": "code",
   "execution_count": null,
   "metadata": {},
   "outputs": [],
   "source": []
  },
  {
   "cell_type": "code",
   "execution_count": null,
   "metadata": {},
   "outputs": [],
   "source": []
  },
  {
   "cell_type": "code",
   "execution_count": null,
   "metadata": {},
   "outputs": [],
   "source": []
  },
  {
   "cell_type": "code",
   "execution_count": null,
   "metadata": {},
   "outputs": [],
   "source": []
  },
  {
   "cell_type": "code",
   "execution_count": null,
   "metadata": {},
   "outputs": [],
   "source": []
  },
  {
   "cell_type": "code",
   "execution_count": null,
   "metadata": {},
   "outputs": [],
   "source": []
  },
  {
   "cell_type": "code",
   "execution_count": null,
   "metadata": {},
   "outputs": [],
   "source": []
  },
  {
   "cell_type": "code",
   "execution_count": null,
   "metadata": {},
   "outputs": [],
   "source": []
  },
  {
   "cell_type": "code",
   "execution_count": null,
   "metadata": {},
   "outputs": [],
   "source": []
  },
  {
   "cell_type": "code",
   "execution_count": null,
   "metadata": {},
   "outputs": [],
   "source": []
  },
  {
   "cell_type": "code",
   "execution_count": null,
   "metadata": {},
   "outputs": [],
   "source": []
  },
  {
   "cell_type": "code",
   "execution_count": null,
   "metadata": {},
   "outputs": [],
   "source": []
  },
  {
   "cell_type": "code",
   "execution_count": null,
   "metadata": {},
   "outputs": [],
   "source": []
  },
  {
   "cell_type": "code",
   "execution_count": null,
   "metadata": {},
   "outputs": [],
   "source": []
  }
 ],
 "metadata": {
  "kernelspec": {
   "display_name": "Python 3",
   "language": "python",
   "name": "python3"
  },
  "language_info": {
   "codemirror_mode": {
    "name": "ipython",
    "version": 3
   },
   "file_extension": ".py",
   "mimetype": "text/x-python",
   "name": "python",
   "nbconvert_exporter": "python",
   "pygments_lexer": "ipython3",
   "version": "3.7.6"
  }
 },
 "nbformat": 4,
 "nbformat_minor": 4
}
