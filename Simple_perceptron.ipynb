{
 "cells": [
  {
   "cell_type": "markdown",
   "metadata": {},
   "source": [
    "### Simple Perceptron\n",
    "A perceptron in a linear binary classifier inspired by the simplest unit of a biological neural network, the single-cell neuron. A brief discussion of the neuronal system will add context useful in understanding its artificial counterpart.\n",
    "\n",
    "Membrane potential describes the charge interior to the cell membrane with respect to the environment exterior. In a neuron at rest, this is equal to approximatley -70 mV (millivolts). Chemical activity at the synapse between the cell and its neighbor can trigger depolarization, an event in which the polarization of the membrane is reduced; the membrane potential thus transiently increases towards a neutral value of 0 mV. \n",
    "\n",
    "If the stimulating event is of sufficient magnitude, the potential will reach, and then cross, a value of -55 mV. This value is significant and known as the **threshold potential**, or threshold above which cellular behavior changes. At ≥ 55 mV, an action potential, or 'spike' in membrane potential, is triggered. This consists of a rapid increase and equally rapid decrease as measured over time. All of this occurs on a scale of about 5 ms. \n",
    "\n",
    "< insert graphic of action potential >\n",
    "\n",
    "< possibly explain voltage-gated sodium channels and g-proteins > \n",
    "\n",
    "Okay. So what does this mean for us? Much as a biological neuron requires reception of an input of sufficient magnitude to fire, a perceptron is activated only if its own threshold is met. Inputs are received and computations are performed upon them. The final result is a signal highly analogous to the electrochemical impulse passed between cells. "
   ]
  },
  {
   "cell_type": "markdown",
   "metadata": {},
   "source": [
    "## Setup\n",
    "Let's first define a perceptron class, which will contain all relevant attributes and methods."
   ]
  },
  {
   "cell_type": "code",
   "execution_count": 2,
   "metadata": {},
   "outputs": [],
   "source": [
    "class Perceptron:\n",
    "    def __init__(self, num_inputs, c):\n",
    "        self.weights = np.array([1])\n",
    "        self.c = c\n",
    "        for i in range(0, num_inputs): # initialize random weights\n",
    "            self.weights = np.append(self.weights, random.uniform(-1,1))\n",
    "            \n",
    "    def get_weights(self):\n",
    "        return self.weights\n",
    "\n",
    "    def train(self, inputs, label):\n",
    "        guess = self.feedforward(inputs)\n",
    "        error = label - guess\n",
    "        for i in range(0, len(self.weights)):\n",
    "            self.weights[i] += self.c * error * inputs[i]\n",
    "\n",
    "    def feedforward(self, inputs):\n",
    "        total = 0\n",
    "        for i in range(0, (len(self.weights) - 1)):\n",
    "            x_i = inputs[i]\n",
    "            w_i = self.weights[i]\n",
    "            total += np.dot(w_i, x_i)\n",
    "        return self.activate(sum)\n",
    "\n",
    "    def activate(self, total):\n",
    "        '''\n",
    "        Activation using a step function; binary output will be 0 or 1.\n",
    "\n",
    "        Parameters\n",
    "        ----------\n",
    "        total : float\n",
    "            The sum of the linear combination of inputs and weights.\n",
    "\n",
    "        Returns\n",
    "        -------\n",
    "        int\n",
    "            A value of 0 if sum is greater than or equal to zero;\n",
    "            a value of 1 if sum is less than zero.\n",
    "        '''        \n",
    "        if total >= 0:\n",
    "            return 1\n",
    "        if total < 0:\n",
    "            return 0"
   ]
  }
 ],
 "metadata": {
  "kernelspec": {
   "display_name": "Python 3",
   "language": "python",
   "name": "python3"
  },
  "language_info": {
   "codemirror_mode": {
    "name": "ipython",
    "version": 3
   },
   "file_extension": ".py",
   "mimetype": "text/x-python",
   "name": "python",
   "nbconvert_exporter": "python",
   "pygments_lexer": "ipython3",
   "version": "3.7.6"
  }
 },
 "nbformat": 4,
 "nbformat_minor": 4
}
