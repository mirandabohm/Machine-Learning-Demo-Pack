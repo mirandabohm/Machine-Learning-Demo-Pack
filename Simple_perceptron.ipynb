{
 "cells": [
  {
   "cell_type": "markdown",
   "metadata": {},
   "source": [
    "### Simple Perceptron\n",
    "A perceptron in a linear binary classifier inspired by the simplest unit of a biological neural network, the single-cell neuron. A brief discussion of the neuronal system will add context useful in understanding its artificial counterpart.\n",
    "\n",
    "Membrane potential describes the charge interior to the cell membrane with respect to the environment exterior. In a neuron at rest, this is equal to approximatley -70 mV (millivolts). Chemical activity at the synapse between the cell and its neighbor can trigger depolarization, an event in which the polarization of the membrane is reduced; the membrane potential thus transiently increases towards a neutral value of 0 mV. \n",
    "\n",
    "If the stimulating event is of sufficient magnitude, the potential will reach, and then cross, a value of -55 mV. This value is significant and known as the **threshold potential**, or threshold above which cellular behavior changes. At ≥ 55 mV, an action potential, or 'spike' in membrane potential, is triggered. This consists of a rapid increase and equally rapid decrease as measured over time. All of this occurs on a scale of about 5 ms. \n",
    "\n",
    "< insert graphic of action potential >\n",
    "\n",
    "< possibly explain voltage-gated sodium channels and g-proteins > \n",
    "\n",
    "Okay. So what does this mean for us? Much as a biological neuron requires reception of an input of sufficient magnitude to fire, a perceptron is activated only if its own threshold is met. Inputs are received and computations are performed upon them. The final result is a signal highly analogous to the electrochemical impulse passed between cells. "
   ]
  },
  {
   "cell_type": "markdown",
   "metadata": {},
   "source": [
    "## Setup\n",
    "We'll start by clearing any existing variables and importing dependencies. "
   ]
  },
  {
   "cell_type": "code",
   "execution_count": 18,
   "metadata": {},
   "outputs": [],
   "source": [
    "%reset -f\n",
    "\n",
    "import random, math\n",
    "import numpy as np \n",
    "import pandas as pd\n",
    "import matplotlib.pyplot as plt\n",
    "%matplotlib inline"
   ]
  },
  {
   "cell_type": "markdown",
   "metadata": {},
   "source": [
    "## Import Data\n",
    "We'll begin by importing our dataset. Please note that this algorithm is only suitable for linearly separable data sets, wherein a line could completely separate two classes in a binary classification problem. \n",
    "\n",
    "We'll be using the famous Iris set from the University of California, Irvine Machine Learning Repository. You can find it here: http://archive.ics.uci.edu/ml/datasets/Iris\n",
    "\n",
    "Please note also that feature names are not specified in the data file; they are however listed on the set's page on the UCI site (link above). We'll write them in manually for simplicity. \"Class\" has been replaced with \"Label\" so as not to provoke confusion about Python's class keyword. "
   ]
  },
  {
   "cell_type": "code",
   "execution_count": 19,
   "metadata": {},
   "outputs": [
    {
     "data": {
      "text/html": [
       "<div>\n",
       "<style scoped>\n",
       "    .dataframe tbody tr th:only-of-type {\n",
       "        vertical-align: middle;\n",
       "    }\n",
       "\n",
       "    .dataframe tbody tr th {\n",
       "        vertical-align: top;\n",
       "    }\n",
       "\n",
       "    .dataframe thead th {\n",
       "        text-align: right;\n",
       "    }\n",
       "</style>\n",
       "<table border=\"1\" class=\"dataframe\">\n",
       "  <thead>\n",
       "    <tr style=\"text-align: right;\">\n",
       "      <th></th>\n",
       "      <th>Sepal Length (cm)</th>\n",
       "      <th>Sepal Width (cm)</th>\n",
       "      <th>Petal Length (cm)</th>\n",
       "      <th>Petal Width (cm)</th>\n",
       "      <th>Label</th>\n",
       "    </tr>\n",
       "  </thead>\n",
       "  <tbody>\n",
       "    <tr>\n",
       "      <th>0</th>\n",
       "      <td>5.1</td>\n",
       "      <td>3.5</td>\n",
       "      <td>1.4</td>\n",
       "      <td>0.2</td>\n",
       "      <td>Iris-setosa</td>\n",
       "    </tr>\n",
       "    <tr>\n",
       "      <th>1</th>\n",
       "      <td>4.9</td>\n",
       "      <td>3.0</td>\n",
       "      <td>1.4</td>\n",
       "      <td>0.2</td>\n",
       "      <td>Iris-setosa</td>\n",
       "    </tr>\n",
       "    <tr>\n",
       "      <th>2</th>\n",
       "      <td>4.7</td>\n",
       "      <td>3.2</td>\n",
       "      <td>1.3</td>\n",
       "      <td>0.2</td>\n",
       "      <td>Iris-setosa</td>\n",
       "    </tr>\n",
       "    <tr>\n",
       "      <th>3</th>\n",
       "      <td>4.6</td>\n",
       "      <td>3.1</td>\n",
       "      <td>1.5</td>\n",
       "      <td>0.2</td>\n",
       "      <td>Iris-setosa</td>\n",
       "    </tr>\n",
       "    <tr>\n",
       "      <th>4</th>\n",
       "      <td>5.0</td>\n",
       "      <td>3.6</td>\n",
       "      <td>1.4</td>\n",
       "      <td>0.2</td>\n",
       "      <td>Iris-setosa</td>\n",
       "    </tr>\n",
       "  </tbody>\n",
       "</table>\n",
       "</div>"
      ],
      "text/plain": [
       "   Sepal Length (cm)  Sepal Width (cm)  Petal Length (cm)  Petal Width (cm)  \\\n",
       "0                5.1               3.5                1.4               0.2   \n",
       "1                4.9               3.0                1.4               0.2   \n",
       "2                4.7               3.2                1.3               0.2   \n",
       "3                4.6               3.1                1.5               0.2   \n",
       "4                5.0               3.6                1.4               0.2   \n",
       "\n",
       "         Label  \n",
       "0  Iris-setosa  \n",
       "1  Iris-setosa  \n",
       "2  Iris-setosa  \n",
       "3  Iris-setosa  \n",
       "4  Iris-setosa  "
      ]
     },
     "execution_count": 19,
     "metadata": {},
     "output_type": "execute_result"
    }
   ],
   "source": [
    "df = pd.read_csv('Data/iris.data', \n",
    "                 names = ['Sepal Length (cm)',\n",
    "                          'Sepal Width (cm)',\n",
    "                          'Petal Length (cm)',\n",
    "                          'Petal Width (cm)',\n",
    "                          'Label'])\n",
    "\n",
    "df.head() # Displays first five rows for us to inspect. "
   ]
  },
  {
   "cell_type": "markdown",
   "metadata": {},
   "source": [
    "I'd like to display each class name. We can use a set for this:"
   ]
  },
  {
   "cell_type": "code",
   "execution_count": 20,
   "metadata": {},
   "outputs": [
    {
     "name": "stdout",
     "output_type": "stream",
     "text": [
      "Iris-virginica\n",
      "Iris-setosa\n",
      "Iris-versicolor\n"
     ]
    }
   ],
   "source": [
    "for label in set(df.Label):\n",
    "    print(label)"
   ]
  },
  {
   "cell_type": "markdown",
   "metadata": {},
   "source": [
    "For the purpose of this project, we'll separate classes on the basis of their sepal length vs. width measurements. Let's first plot our data. We need to create a color map which will allow each class to be plotted in its own identifying color. We'll start by building a dictionary whose keys are the unique class labels above:"
   ]
  },
  {
   "cell_type": "code",
   "execution_count": 21,
   "metadata": {},
   "outputs": [
    {
     "name": "stdout",
     "output_type": "stream",
     "text": [
      "{'Iris-virginica': 'red', 'Iris-setosa': 'blue', 'Iris-versicolor': 'green'}\n"
     ]
    }
   ],
   "source": [
    "colormap = {}\n",
    "colors = ['red', 'blue', 'green']\n",
    "\n",
    "for label, color in zip(set(df.Label), colors):\n",
    "    colormap[label] = color\n",
    "\n",
    "print(colormap)"
   ]
  },
  {
   "cell_type": "markdown",
   "metadata": {},
   "source": [
    "This color map will be passed as a parameter to our plotting function. "
   ]
  },
  {
   "cell_type": "code",
   "execution_count": 22,
   "metadata": {},
   "outputs": [
    {
     "data": {
      "text/plain": [
       "<AxesSubplot:title={'center':'Sepal Width (cm) vs. Sepal Length (cm)'}, xlabel='Sepal Length (cm)', ylabel='Sepal Width (cm)'>"
      ]
     },
     "execution_count": 22,
     "metadata": {},
     "output_type": "execute_result"
    },
    {
     "data": {
      "image/png": "[encoded data removed]",
      "text/plain": [
       "<Figure size 432x288 with 1 Axes>"
      ]
     },
     "metadata": {},
     "output_type": "display_data"
    }
   ],
   "source": [
    "fig, ax = plt.subplots(facecolor = 'white')\n",
    "\n",
    "x = 'Sepal Length (cm)'\n",
    "y = 'Sepal Width (cm)'\n",
    "\n",
    "df.plot(x = x,\n",
    "        y = y,\n",
    "        kind = 'scatter',\n",
    "        ax = ax,\n",
    "        s = 4, \n",
    "        c = [colormap.get(c, 'black') for c in df.Label],\n",
    "        title = str(y) + ' vs. ' + str(x))\n",
    "\n",
    "# TODO: add legend\n",
    "# Add other exploratory views"
   ]
  },
  {
   "cell_type": "code",
   "execution_count": 23,
   "metadata": {},
   "outputs": [],
   "source": [
    "class Perceptron:\n",
    "    def __init__(self, num_inputs, c):\n",
    "        self.weights = np.array([])\n",
    "        self.c = c\n",
    "        for i in range(0, num_inputs): # initialize random weights\n",
    "            self.weights = np.append(self.weights, random.uniform(-1,1))\n",
    "            \n",
    "    def get_weights(self):\n",
    "        '''\n",
    "        Getter method to return weights. \n",
    "\n",
    "        Returns\n",
    "        -------\n",
    "        Numpy array\n",
    "            self.weights\n",
    "\n",
    "        '''\n",
    "        return self.weights\n",
    "\n",
    "    def train(self, inputs, label):\n",
    "        '''\n",
    "        Train the classifier\n",
    "\n",
    "        Returns\n",
    "        -------\n",
    "        None\n",
    "\n",
    "        '''\n",
    "        guess = self.feedforward(inputs)\n",
    "        error = label - guess\n",
    "        for i in range(0, len(self.weights)):\n",
    "            self.weights[i] += self.c * error * inputs[i]\n",
    "\n",
    "    def feedforward(self, inputs):\n",
    "        '''\n",
    "        Perform feedforward calculations.\n",
    "        \n",
    "        Parameters\n",
    "        ----------\n",
    "        inputs : list\n",
    "            Input data. \n",
    "\n",
    "        Returns\n",
    "        -------\n",
    "        TYPE\n",
    "            self.activate(summation): activated weighted sum of inputs\n",
    "\n",
    "        '''\n",
    "        summation = 0\n",
    "        for i in range(0, (len(self.weights))):\n",
    "            x_i = inputs[i]\n",
    "            w_i = self.weights[i]\n",
    "            summation += np.dot(w_i, x_i)\n",
    "        return self.activate(summation)\n",
    "\n",
    "    def activate(self, total):\n",
    "        '''\n",
    "        Activation using a step function; binary output will be 0 or 1.\n",
    "\n",
    "        Parameters\n",
    "        ----------\n",
    "        total : float\n",
    "            The sum of the linear combination of inputs and weights.\n",
    "\n",
    "        Returns\n",
    "        -------\n",
    "        int\n",
    "            A value of 0 if sum is greater than or equal to zero;\n",
    "            a value of 1 if sum is less than zero.\n",
    "        '''        \n",
    "        if total >= 0:\n",
    "            return 1\n",
    "        if total < 0:\n",
    "            return 0\n"
   ]
  }
 ],
 "metadata": {
  "kernelspec": {
   "display_name": "Python 3",
   "language": "python",
   "name": "python3"
  },
  "language_info": {
   "codemirror_mode": {
    "name": "ipython",
    "version": 3
   },
   "file_extension": ".py",
   "mimetype": "text/x-python",
   "name": "python",
   "nbconvert_exporter": "python",
   "pygments_lexer": "ipython3",
   "version": "3.7.6"
  }
 },
 "nbformat": 4,
 "nbformat_minor": 4
}
