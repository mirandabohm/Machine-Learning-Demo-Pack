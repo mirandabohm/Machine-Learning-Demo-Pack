{
 "cells": [
  {
   "cell_type": "markdown",
   "metadata": {},
   "source": [
    "# Linear Regression: Finding the Best of the Best (Lines of Fit)\n",
    "In this short notebook, we will demonstrate a simple, supervised technique for modeling the relationship between variables. Output in this case will be a linear equation, that is, one of the form mx + b. "
   ]
  },
  {
   "cell_type": "markdown",
   "metadata": {},
   "source": [
    "### A Little Housekeeping\n",
    "We will first import all dependencies and set up our programming environment. "
   ]
  },
  {
   "cell_type": "code",
   "execution_count": 735,
   "metadata": {},
   "outputs": [],
   "source": [
    "# Reset the workspace, forcibly deleting all existing variables \n",
    "%reset -f"
   ]
  },
  {
   "cell_type": "code",
   "execution_count": 736,
   "metadata": {},
   "outputs": [],
   "source": [
    "import pandas as pd \n",
    "import numpy as np\n",
    "import matplotlib.pyplot as plt\n",
    "import matplotlib.ticker as plticker\n",
    "from matplotlib.dates import DateFormatter\n",
    "\n",
    "%matplotlib inline"
   ]
  },
  {
   "cell_type": "markdown",
   "metadata": {},
   "source": [
    "### Importing the Data\n",
    "Linear regression can be performed on any dataset, regardless of whether a clear upward or downward trend can be extrapolated. However, for the sake of demonstration, we will choose a set which does have a clear trend. \n",
    "\n",
    "Thus we'll be using a straightforward set of all-time historical stock data for Merck & Co (MRK). Our set includes years 1970 to 2020, during which time this stock has enjoyed a substantial increase in value. It was first listed on the Down Jones Industrial Average in 1979. Source: Yahoo Finance (https://finance.yahoo.com/quote/MRK/history?p=MRK)\n",
    "\n",
    "We'll first import the data to a Pandas dataframe, preview the first handful of rows, and print a few statistics in order to get a feel for the data. \n",
    "\n",
    "Please note that the file, which is .csv format, will be saved in a directory named 'Data.'"
   ]
  },
  {
   "cell_type": "code",
   "execution_count": 737,
   "metadata": {},
   "outputs": [
    {
     "data": {
      "text/html": [
       "<div>\n",
       "<style scoped>\n",
       "    .dataframe tbody tr th:only-of-type {\n",
       "        vertical-align: middle;\n",
       "    }\n",
       "\n",
       "    .dataframe tbody tr th {\n",
       "        vertical-align: top;\n",
       "    }\n",
       "\n",
       "    .dataframe thead th {\n",
       "        text-align: right;\n",
       "    }\n",
       "</style>\n",
       "<table border=\"1\" class=\"dataframe\">\n",
       "  <thead>\n",
       "    <tr style=\"text-align: right;\">\n",
       "      <th></th>\n",
       "      <th>Date</th>\n",
       "      <th>Open</th>\n",
       "      <th>High</th>\n",
       "      <th>Low</th>\n",
       "      <th>Close</th>\n",
       "      <th>Adj Close</th>\n",
       "      <th>Volume</th>\n",
       "    </tr>\n",
       "  </thead>\n",
       "  <tbody>\n",
       "    <tr>\n",
       "      <th>0</th>\n",
       "      <td>1970-01-02</td>\n",
       "      <td>1.565972</td>\n",
       "      <td>1.565972</td>\n",
       "      <td>1.541667</td>\n",
       "      <td>1.545139</td>\n",
       "      <td>0.352593</td>\n",
       "      <td>475200</td>\n",
       "    </tr>\n",
       "    <tr>\n",
       "      <th>1</th>\n",
       "      <td>1970-01-05</td>\n",
       "      <td>1.545139</td>\n",
       "      <td>1.555556</td>\n",
       "      <td>1.531250</td>\n",
       "      <td>1.536458</td>\n",
       "      <td>0.350612</td>\n",
       "      <td>669600</td>\n",
       "    </tr>\n",
       "    <tr>\n",
       "      <th>2</th>\n",
       "      <td>1970-01-06</td>\n",
       "      <td>1.536458</td>\n",
       "      <td>1.548611</td>\n",
       "      <td>1.527778</td>\n",
       "      <td>1.548611</td>\n",
       "      <td>0.353385</td>\n",
       "      <td>568800</td>\n",
       "    </tr>\n",
       "    <tr>\n",
       "      <th>3</th>\n",
       "      <td>1970-01-07</td>\n",
       "      <td>1.548611</td>\n",
       "      <td>1.562500</td>\n",
       "      <td>1.531250</td>\n",
       "      <td>1.534722</td>\n",
       "      <td>0.350216</td>\n",
       "      <td>892800</td>\n",
       "    </tr>\n",
       "    <tr>\n",
       "      <th>4</th>\n",
       "      <td>1970-01-08</td>\n",
       "      <td>1.538194</td>\n",
       "      <td>1.555556</td>\n",
       "      <td>1.538194</td>\n",
       "      <td>1.545139</td>\n",
       "      <td>0.352593</td>\n",
       "      <td>496800</td>\n",
       "    </tr>\n",
       "  </tbody>\n",
       "</table>\n",
       "</div>"
      ],
      "text/plain": [
       "        Date      Open      High       Low     Close  Adj Close  Volume\n",
       "0 1970-01-02  1.565972  1.565972  1.541667  1.545139   0.352593  475200\n",
       "1 1970-01-05  1.545139  1.555556  1.531250  1.536458   0.350612  669600\n",
       "2 1970-01-06  1.536458  1.548611  1.527778  1.548611   0.353385  568800\n",
       "3 1970-01-07  1.548611  1.562500  1.531250  1.534722   0.350216  892800\n",
       "4 1970-01-08  1.538194  1.555556  1.538194  1.545139   0.352593  496800"
      ]
     },
     "execution_count": 737,
     "metadata": {},
     "output_type": "execute_result"
    }
   ],
   "source": [
    "df = pd.read_csv('Data/MRK.csv',\n",
    "                parse_dates=['Date'])\n",
    "df.head()"
   ]
  },
  {
   "cell_type": "code",
   "execution_count": 738,
   "metadata": {},
   "outputs": [
    {
     "name": "stdout",
     "output_type": "stream",
     "text": [
      "Dataframe shape: (12778, 7)\n",
      "Number of data examples: 12778\n",
      "Number of data features: 7\n",
      "Number of dimensions: 2\n"
     ]
    }
   ],
   "source": [
    "print('Dataframe shape:', df.shape)\n",
    "print('Number of data examples:', df.shape[0])\n",
    "print('Number of data features:', df.shape[1])\n",
    "print('Number of dimensions:', df.ndim)"
   ]
  },
  {
   "cell_type": "markdown",
   "metadata": {},
   "source": [
    "Because it may be time costly to plot almost 13,000 points, we will take every fifth data point and omit all others. The overall trend and result of our regression analysis will end up essentially the same. "
   ]
  },
  {
   "cell_type": "code",
   "execution_count": 739,
   "metadata": {},
   "outputs": [
    {
     "name": "stdout",
     "output_type": "stream",
     "text": [
      "Dataframe shape: (2556, 7)\n",
      "Number of data examples: 2556\n",
      "Number of data features: 7\n",
      "Number of dimensions: 2\n"
     ]
    }
   ],
   "source": [
    "df = df.iloc[::5, :] # Include every fifth row\n",
    "print('Dataframe shape:', df.shape)\n",
    "print('Number of data examples:', df.shape[0])\n",
    "print('Number of data features:', df.shape[1])\n",
    "print('Number of dimensions:', df.ndim)"
   ]
  },
  {
   "cell_type": "markdown",
   "metadata": {},
   "source": [
    "It can also be useful to display summary statistics. "
   ]
  },
  {
   "cell_type": "code",
   "execution_count": 740,
   "metadata": {},
   "outputs": [
    {
     "data": {
      "text/html": [
       "<div>\n",
       "<style scoped>\n",
       "    .dataframe tbody tr th:only-of-type {\n",
       "        vertical-align: middle;\n",
       "    }\n",
       "\n",
       "    .dataframe tbody tr th {\n",
       "        vertical-align: top;\n",
       "    }\n",
       "\n",
       "    .dataframe thead th {\n",
       "        text-align: right;\n",
       "    }\n",
       "</style>\n",
       "<table border=\"1\" class=\"dataframe\">\n",
       "  <thead>\n",
       "    <tr style=\"text-align: right;\">\n",
       "      <th></th>\n",
       "      <th>Open</th>\n",
       "      <th>High</th>\n",
       "      <th>Low</th>\n",
       "      <th>Close</th>\n",
       "      <th>Adj Close</th>\n",
       "      <th>Volume</th>\n",
       "    </tr>\n",
       "  </thead>\n",
       "  <tbody>\n",
       "    <tr>\n",
       "      <th>count</th>\n",
       "      <td>2556.000000</td>\n",
       "      <td>2556.000000</td>\n",
       "      <td>2556.000000</td>\n",
       "      <td>2556.000000</td>\n",
       "      <td>2556.000000</td>\n",
       "      <td>2.556000e+03</td>\n",
       "    </tr>\n",
       "    <tr>\n",
       "      <th>mean</th>\n",
       "      <td>29.052236</td>\n",
       "      <td>29.352241</td>\n",
       "      <td>28.757661</td>\n",
       "      <td>29.068578</td>\n",
       "      <td>18.613251</td>\n",
       "      <td>7.044703e+06</td>\n",
       "    </tr>\n",
       "    <tr>\n",
       "      <th>std</th>\n",
       "      <td>25.784099</td>\n",
       "      <td>26.056528</td>\n",
       "      <td>25.520080</td>\n",
       "      <td>25.805094</td>\n",
       "      <td>20.460078</td>\n",
       "      <td>6.082407e+06</td>\n",
       "    </tr>\n",
       "    <tr>\n",
       "      <th>min</th>\n",
       "      <td>1.090278</td>\n",
       "      <td>1.097222</td>\n",
       "      <td>1.076389</td>\n",
       "      <td>1.076389</td>\n",
       "      <td>0.247066</td>\n",
       "      <td>2.232000e+05</td>\n",
       "    </tr>\n",
       "    <tr>\n",
       "      <th>25%</th>\n",
       "      <td>2.431424</td>\n",
       "      <td>2.457465</td>\n",
       "      <td>2.415799</td>\n",
       "      <td>2.436632</td>\n",
       "      <td>0.719148</td>\n",
       "      <td>2.892650e+06</td>\n",
       "    </tr>\n",
       "    <tr>\n",
       "      <th>50%</th>\n",
       "      <td>25.000000</td>\n",
       "      <td>25.187500</td>\n",
       "      <td>24.781250</td>\n",
       "      <td>24.937500</td>\n",
       "      <td>10.072225</td>\n",
       "      <td>5.536700e+06</td>\n",
       "    </tr>\n",
       "    <tr>\n",
       "      <th>75%</th>\n",
       "      <td>50.570000</td>\n",
       "      <td>51.070000</td>\n",
       "      <td>50.045626</td>\n",
       "      <td>50.679998</td>\n",
       "      <td>29.361950</td>\n",
       "      <td>9.522075e+06</td>\n",
       "    </tr>\n",
       "    <tr>\n",
       "      <th>max</th>\n",
       "      <td>92.812500</td>\n",
       "      <td>93.250000</td>\n",
       "      <td>91.269997</td>\n",
       "      <td>92.687500</td>\n",
       "      <td>90.172379</td>\n",
       "      <td>6.659160e+07</td>\n",
       "    </tr>\n",
       "  </tbody>\n",
       "</table>\n",
       "</div>"
      ],
      "text/plain": [
       "              Open         High          Low        Close    Adj Close  \\\n",
       "count  2556.000000  2556.000000  2556.000000  2556.000000  2556.000000   \n",
       "mean     29.052236    29.352241    28.757661    29.068578    18.613251   \n",
       "std      25.784099    26.056528    25.520080    25.805094    20.460078   \n",
       "min       1.090278     1.097222     1.076389     1.076389     0.247066   \n",
       "25%       2.431424     2.457465     2.415799     2.436632     0.719148   \n",
       "50%      25.000000    25.187500    24.781250    24.937500    10.072225   \n",
       "75%      50.570000    51.070000    50.045626    50.679998    29.361950   \n",
       "max      92.812500    93.250000    91.269997    92.687500    90.172379   \n",
       "\n",
       "             Volume  \n",
       "count  2.556000e+03  \n",
       "mean   7.044703e+06  \n",
       "std    6.082407e+06  \n",
       "min    2.232000e+05  \n",
       "25%    2.892650e+06  \n",
       "50%    5.536700e+06  \n",
       "75%    9.522075e+06  \n",
       "max    6.659160e+07  "
      ]
     },
     "execution_count": 740,
     "metadata": {},
     "output_type": "execute_result"
    }
   ],
   "source": [
    "df.describe()"
   ]
  },
  {
   "cell_type": "markdown",
   "metadata": {},
   "source": [
    "They say a picture is worth a thousand words. We'll now visualize the data using matplotlib, which can easily pull information from a Pandas dataframe. \n",
    "\n",
    "A small caveat is that the independent (x) and dependent (y) variables must be specified in order to use the df.plot() function. For that, it is trivially easy to simply look at the column headers displayed in df.head(). \n",
    "\n",
    "Another handy way to access these headers is by calling the columns attribute of the dataframe using df.columns, as seen below. "
   ]
  },
  {
   "cell_type": "code",
   "execution_count": 741,
   "metadata": {},
   "outputs": [
    {
     "data": {
      "text/plain": [
       "Index(['Date', 'Open', 'High', 'Low', 'Close', 'Adj Close', 'Volume'], dtype='object')"
      ]
     },
     "execution_count": 741,
     "metadata": {},
     "output_type": "execute_result"
    }
   ],
   "source": [
    "df.columns # Displays column headers needed for plotting"
   ]
  },
  {
   "cell_type": "markdown",
   "metadata": {},
   "source": [
    "We will plot stock close values from all time (1970 until present) with date as the independent variable. "
   ]
  },
  {
   "cell_type": "code",
   "execution_count": 742,
   "metadata": {},
   "outputs": [
    {
     "data": {
      "image/png": "[encoded data removed]",
      "text/plain": [
       "<Figure size 864x576 with 1 Axes>"
      ]
     },
     "metadata": {},
     "output_type": "display_data"
    }
   ],
   "source": [
    "fig, ax = plt.subplots(figsize=(12,8), facecolor = 'white') # Sets plot size and color behind axes\n",
    "ax.set_title('MRK Close Value vs. Date, 1970 - 2020') # Title\n",
    "\n",
    "date_form = DateFormatter(\"%Y\") # Formats x axis dates\n",
    "ax.xaxis.set_major_formatter(date_form)\n",
    "\n",
    "loc = plticker.MultipleLocator(base=365.0*4) # Set interval / frequency of x axis ticks\n",
    "ax.xaxis.set_major_locator(loc) \n",
    "\n",
    "df.plot(kind = 'scatter', x = 'Date', y = 'Close', ax = ax, s = 1) # Plot data\n",
    "\n",
    "plt.show() # Display plot"
   ]
  },
  {
   "cell_type": "markdown",
   "metadata": {},
   "source": [
    "# Define Line Plotting Function"
   ]
  },
  {
   "cell_type": "code",
   "execution_count": 743,
   "metadata": {},
   "outputs": [],
   "source": [
    "%matplotlib inline\n",
    "\n",
    "def plot_line(x, weights):\n",
    "    \"\"\"\n",
    "    Plots a line. \n",
    "\n",
    "    Args:\n",
    "        x (type): \n",
    "        weights (type): \n",
    "\n",
    "    Returns:\n",
    "        None\n",
    "\n",
    "    \"\"\" \n",
    "    line = np.dot(x, weights)\n",
    "    plt.plot(line)\n",
    "    plt.ylabel('some numbers')\n",
    "    plt.show()\n",
    "    return line"
   ]
  },
  {
   "cell_type": "markdown",
   "metadata": {},
   "source": [
    "# Define Cost Function"
   ]
  },
  {
   "cell_type": "code",
   "execution_count": 744,
   "metadata": {},
   "outputs": [],
   "source": [
    "def compute_cost(x, y, weights):\n",
    "    \"\"\"\n",
    "    Calculate the cost function. \n",
    "    \n",
    "    To be run repeatedly as gradient descent executes.\n",
    "\n",
    "    Args:\n",
    "        x (type):\n",
    "        y (type): \n",
    "        weights (type):\n",
    "\n",
    "    Returns:\n",
    "        J: cost, or the root mean squared error between hypotheses \n",
    "            (predictions) and actual values (y)\n",
    "        \n",
    "    \"\"\"      \n",
    "    num_samples = len(y)\n",
    "    hypothesis = np.dot(x, weights)\n",
    "    \n",
    "    J = 1 / (2 * num_samples) * (sum(sum((hypothesis - y) ** 2)))\n",
    "    \n",
    "    return J"
   ]
  },
  {
   "cell_type": "markdown",
   "metadata": {},
   "source": [
    "# Define Gradient Descent Function"
   ]
  },
  {
   "cell_type": "code",
   "execution_count": 745,
   "metadata": {},
   "outputs": [],
   "source": [
    "def gradient_descent(x, y, weights, learning_rate, epochs):\n",
    "    \"\"\"\n",
    "    Performs gradient descent. \n",
    "\n",
    "    Iteratively fit a regression line and calculate loss\n",
    "\n",
    "    Args:\n",
    "        x (type): \n",
    "        y (type): \n",
    "        empty_matrix (type):\n",
    "        learning_rate (type):\n",
    "        epochs (type):\n",
    "\n",
    "    Returns:\n",
    "        weights: description\n",
    "        cost_history: description\n",
    "\n",
    "    \"\"\"   \n",
    "    num_samples = len(y)\n",
    "    cost_history = np.zeros([epochs, 1])\n",
    "    \n",
    "    for i in range(epochs):\n",
    "        hypothesis = np.dot(x, weights)\n",
    "\n",
    "        weight1 = weights[0] - learning_rate * (1/num_samples) * sum(hypothesis - y)\n",
    "        weight2 = weights[1] - learning_rate * (1/num_samples) * sum((hypothesis - y) * x[:,1])\n",
    "        print('weights:', weights)\n",
    "        \n",
    "        weights[0] = weight1\n",
    "        weights[1] = weight2\n",
    "        \n",
    "        print('SHAPE:', weights.shape)\n",
    "        print('W1:', weights[0])\n",
    "        print('W2:', weights[1])\n",
    "        \n",
    "        cost_history[i] = compute_cost(x, y, weights)\n",
    "        # plot_line(x, weights)\n",
    "\n",
    "    return hypothesis, weights, cost_history"
   ]
  },
  {
   "cell_type": "markdown",
   "metadata": {},
   "source": [
    "# Main Program"
   ]
  },
  {
   "cell_type": "markdown",
   "metadata": {},
   "source": [
    "# Set Parameters and Hyperparameters"
   ]
  },
  {
   "cell_type": "code",
   "execution_count": 746,
   "metadata": {},
   "outputs": [],
   "source": [
    "learning_rate = 0.70 # Also called 'alpha'\n",
    "epochs = 100 # As desired\n",
    "weights = np.zeros((2,), dtype=int) # weights[0] is intercept b; weights[1] is slope m"
   ]
  },
  {
   "cell_type": "code",
   "execution_count": 747,
   "metadata": {},
   "outputs": [
    {
     "name": "stdout",
     "output_type": "stream",
     "text": [
      "x.shape: (2556, 1)\n",
      "y.shape: (2556, 1)\n",
      "Add ones to create X. X.shape: (2556, 2)\n",
      "Weights.shape: (2,)\n",
      "m: 2556\n"
     ]
    },
    {
     "data": {
      "image/png": "[encoded data removed]",
      "text/plain": [
       "<Figure size 432x288 with 1 Axes>"
      ]
     },
     "metadata": {
      "needs_background": "light"
     },
     "output_type": "display_data"
    },
    {
     "name": "stdout",
     "output_type": "stream",
     "text": [
      "[0. 0. 0. ... 0. 0. 0.]\n"
     ]
    }
   ],
   "source": [
    "# Define x and y variables\n",
    "x = df['Date']\n",
    "y = df['Close']\n",
    "m = len(x)\n",
    "\n",
    "# Add a dimension to x and y to allow array multiplication later\n",
    "x, y = np.expand_dims(x, axis = 1), np.expand_dims(y, axis = 1)\n",
    "\n",
    "print('x.shape:', x.shape)\n",
    "print('y.shape:', y.shape)\n",
    "\n",
    "# Add a column of ones to x\n",
    "#x = np.expand_dims(x, axis = 1) # Expand array to agree with dimensions\n",
    "X = np.ones([m, 2])\n",
    "X[:, 1:2] = x\n",
    "\n",
    "print('Add ones to create X. X.shape:', X.shape)\n",
    "print('Weights.shape:', weights.shape)\n",
    "print('m:', m)\n",
    "\n",
    "print(plot_line(X, weights))"
   ]
  },
  {
   "cell_type": "code",
   "execution_count": 748,
   "metadata": {},
   "outputs": [
    {
     "name": "stdout",
     "output_type": "stream",
     "text": [
      "weights: [0 0]\n"
     ]
    },
    {
     "ename": "ValueError",
     "evalue": "setting an array element with a sequence.",
     "output_type": "error",
     "traceback": [
      "\u001b[1;31m---------------------------------------------------------------------------\u001b[0m",
      "\u001b[1;31mTypeError\u001b[0m                                 Traceback (most recent call last)",
      "\u001b[1;31mTypeError\u001b[0m: only size-1 arrays can be converted to Python scalars",
      "\nThe above exception was the direct cause of the following exception:\n",
      "\u001b[1;31mValueError\u001b[0m                                Traceback (most recent call last)",
      "\u001b[1;32m<ipython-input-748-facd87c839b0>\u001b[0m in \u001b[0;36m<module>\u001b[1;34m\u001b[0m\n\u001b[1;32m----> 1\u001b[1;33m \u001b[0mhypothesis\u001b[0m\u001b[1;33m,\u001b[0m \u001b[0mweights\u001b[0m\u001b[1;33m,\u001b[0m \u001b[0mcost_history\u001b[0m \u001b[1;33m=\u001b[0m \u001b[0mgradient_descent\u001b[0m\u001b[1;33m(\u001b[0m\u001b[0mX\u001b[0m\u001b[1;33m,\u001b[0m \u001b[0my\u001b[0m\u001b[1;33m,\u001b[0m \u001b[0mweights\u001b[0m\u001b[1;33m,\u001b[0m \u001b[0mlearning_rate\u001b[0m\u001b[1;33m,\u001b[0m \u001b[0mepochs\u001b[0m\u001b[1;33m)\u001b[0m\u001b[1;33m\u001b[0m\u001b[1;33m\u001b[0m\u001b[0m\n\u001b[0m\u001b[0;32m      2\u001b[0m \u001b[0mhypothesis\u001b[0m \u001b[1;33m=\u001b[0m \u001b[0mnp\u001b[0m\u001b[1;33m.\u001b[0m\u001b[0mdot\u001b[0m\u001b[1;33m(\u001b[0m\u001b[0mX\u001b[0m\u001b[1;33m,\u001b[0m \u001b[0mweights\u001b[0m\u001b[1;33m)\u001b[0m\u001b[1;33m\u001b[0m\u001b[1;33m\u001b[0m\u001b[0m\n\u001b[0;32m      3\u001b[0m \u001b[0mprint\u001b[0m\u001b[1;33m(\u001b[0m\u001b[1;34m'hypothesis.shape:'\u001b[0m\u001b[1;33m,\u001b[0m \u001b[0mhypothesis\u001b[0m\u001b[1;33m.\u001b[0m\u001b[0mshape\u001b[0m\u001b[1;33m)\u001b[0m\u001b[1;33m\u001b[0m\u001b[1;33m\u001b[0m\u001b[0m\n\u001b[0;32m      4\u001b[0m \u001b[1;33m\u001b[0m\u001b[0m\n\u001b[0;32m      5\u001b[0m \u001b[0mnum_samples\u001b[0m \u001b[1;33m=\u001b[0m \u001b[0mlen\u001b[0m\u001b[1;33m(\u001b[0m\u001b[0my\u001b[0m\u001b[1;33m)\u001b[0m\u001b[1;33m\u001b[0m\u001b[1;33m\u001b[0m\u001b[0m\n",
      "\u001b[1;32m<ipython-input-745-ba641efc2162>\u001b[0m in \u001b[0;36mgradient_descent\u001b[1;34m(x, y, weights, learning_rate, epochs)\u001b[0m\n\u001b[0;32m     27\u001b[0m         \u001b[0mprint\u001b[0m\u001b[1;33m(\u001b[0m\u001b[1;34m'weights:'\u001b[0m\u001b[1;33m,\u001b[0m \u001b[0mweights\u001b[0m\u001b[1;33m)\u001b[0m\u001b[1;33m\u001b[0m\u001b[1;33m\u001b[0m\u001b[0m\n\u001b[0;32m     28\u001b[0m \u001b[1;33m\u001b[0m\u001b[0m\n\u001b[1;32m---> 29\u001b[1;33m         \u001b[0mweights\u001b[0m\u001b[1;33m[\u001b[0m\u001b[1;36m0\u001b[0m\u001b[1;33m]\u001b[0m \u001b[1;33m=\u001b[0m \u001b[0mweight1\u001b[0m\u001b[1;33m\u001b[0m\u001b[1;33m\u001b[0m\u001b[0m\n\u001b[0m\u001b[0;32m     30\u001b[0m         \u001b[0mweights\u001b[0m\u001b[1;33m[\u001b[0m\u001b[1;36m1\u001b[0m\u001b[1;33m]\u001b[0m \u001b[1;33m=\u001b[0m \u001b[0mweight2\u001b[0m\u001b[1;33m\u001b[0m\u001b[1;33m\u001b[0m\u001b[0m\n\u001b[0;32m     31\u001b[0m \u001b[1;33m\u001b[0m\u001b[0m\n",
      "\u001b[1;31mValueError\u001b[0m: setting an array element with a sequence."
     ]
    }
   ],
   "source": [
    "hypothesis, weights, cost_history = gradient_descent(X, y, weights, learning_rate, epochs)\n",
    "hypothesis = np.dot(X, weights)\n",
    "print('hypothesis.shape:', hypothesis.shape)\n",
    "\n",
    "num_samples = len(y)\n",
    "print('y.shape:', y.shape)\n",
    "\n",
    "print('(hypothesis - y).shape:', (hypothesis - y).shape)\n",
    "print('X[:,1]:', X[:,1].shape)\n",
    "print('X[:,1:2]:', X[:,1:2].shape)\n",
    "print('(hypothesis - y).shape:', (hypothesis - y).shape)\n",
    "\n",
    "qq = ((hypothesis - y) * X[:,1:2])\n",
    "print('qq.shape:', qq.shape)\n",
    "\n",
    "ww = sum((hypothesis - y) * X[:,1:2])\n",
    "print('sum((hypothesis - y) * X[:,1:2]):', ww)\n",
    "print('ww.shape:', ww.shape)\n",
    "\n",
    "weight1 = weights[0] - learning_rate * (1/num_samples) * sum(hypothesis - y)\n",
    "weight2 = weights[1] - learning_rate * (1/num_samples) * sum((hypothesis - y) * X[:,1:2])\n",
    "\n",
    "r = weights[0] - 0.7/10 * weights[1]\n",
    "print(r.shape)"
   ]
  },
  {
   "cell_type": "code",
   "execution_count": null,
   "metadata": {},
   "outputs": [],
   "source": [
    "z = (hypothesis - y)*X[:,1]\n",
    "print(type(z))\n",
    "print(z.shape)"
   ]
  },
  {
   "cell_type": "code",
   "execution_count": null,
   "metadata": {},
   "outputs": [],
   "source": [
    "num_samples = len(y)\n",
    "(1/num_samples)\n",
    "hypothesis = np.dot(X, weights)\n",
    "print(type(learning_rate))\n",
    "print(1/num_samples)\n",
    "print((sum(hypothesis - y)).shape)\n",
    "print((sum(sum(hypothesis - y))).shape)"
   ]
  },
  {
   "cell_type": "code",
   "execution_count": null,
   "metadata": {},
   "outputs": [],
   "source": [
    "print(X[:,1])\n",
    "print(X[:,1].shape)"
   ]
  },
  {
   "cell_type": "code",
   "execution_count": null,
   "metadata": {},
   "outputs": [],
   "source": [
    "print(compute_cost(X, y, weights))\n",
    "print(weights[1].shape)"
   ]
  },
  {
   "cell_type": "code",
   "execution_count": null,
   "metadata": {},
   "outputs": [],
   "source": [
    "gradient_descent(X, y, weights, learning_rate, epochs)"
   ]
  },
  {
   "cell_type": "code",
   "execution_count": null,
   "metadata": {},
   "outputs": [],
   "source": [
    "p = np.zeros([100,])\n",
    "print(p.shape)\n",
    "\n",
    "q = np.zeros([100,])\n",
    "print(q.shape)\n",
    "\n",
    "t = p * q\n",
    "print(t)\n",
    "print(t.shape)"
   ]
  }
 ],
 "metadata": {
  "kernelspec": {
   "display_name": "Python 3",
   "language": "python",
   "name": "python3"
  },
  "language_info": {
   "codemirror_mode": {
    "name": "ipython",
    "version": 3
   },
   "file_extension": ".py",
   "mimetype": "text/x-python",
   "name": "python",
   "nbconvert_exporter": "python",
   "pygments_lexer": "ipython3",
   "version": "3.7.6"
  }
 },
 "nbformat": 4,
 "nbformat_minor": 4
}
