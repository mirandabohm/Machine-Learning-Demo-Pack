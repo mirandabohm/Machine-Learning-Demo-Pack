{
 "cells": [
  {
   "cell_type": "markdown",
   "metadata": {},
   "source": [
    "# Linear Regression: Finding the Best of the Best (Lines of Fit)\n",
    "In this short notebook, we will demonstrate a simple, supervised technique for modeling the relationship between variables. Output in this case will be a linear equation, that is, one of the form mx + b. "
   ]
  },
  {
   "cell_type": "markdown",
   "metadata": {},
   "source": [
    "### A Little Housekeeping\n",
    "We will first import all dependencies and set up our programming environment. "
   ]
  },
  {
   "cell_type": "code",
   "execution_count": 266,
   "metadata": {},
   "outputs": [],
   "source": [
    "# Reset the workspace, forcibly deleting all existing variables \n",
    "%reset -f"
   ]
  },
  {
   "cell_type": "code",
   "execution_count": 267,
   "metadata": {},
   "outputs": [],
   "source": [
    "import pandas as pd \n",
    "import numpy as np\n",
    "import matplotlib.pyplot as plt\n",
    "import matplotlib.ticker as plticker\n",
    "from matplotlib.dates import DateFormatter\n",
    "\n",
    "%matplotlib inline"
   ]
  },
  {
   "cell_type": "markdown",
   "metadata": {},
   "source": [
    "### Importing the Data\n",
    "Linear regression can be performed on any dataset, regardless of whether a clear upward or downward trend can be extrapolated. However, for the sake of demonstration, we will choose a set which does have a clear trend. \n",
    "\n",
    "Thus we'll be using a straightforward set of all-time historical stock data for Merck & Co (MRK). Our set includes years 1970 to 2020, during which time this stock has enjoyed a substantial increase in value. It was first listed on the Down Jones Industrial Average in 1979. Source: Yahoo Finance (https://finance.yahoo.com/quote/MRK/history?p=MRK)\n",
    "\n",
    "We'll first import the data to a Pandas dataframe, preview the first handful of rows, and print a few statistics in order to get a feel for the data. \n",
    "\n",
    "Please note that the file, which is .csv format, will be saved in a directory named 'Data.'"
   ]
  },
  {
   "cell_type": "code",
   "execution_count": 268,
   "metadata": {},
   "outputs": [
    {
     "data": {
      "text/html": [
       "<div>\n",
       "<style scoped>\n",
       "    .dataframe tbody tr th:only-of-type {\n",
       "        vertical-align: middle;\n",
       "    }\n",
       "\n",
       "    .dataframe tbody tr th {\n",
       "        vertical-align: top;\n",
       "    }\n",
       "\n",
       "    .dataframe thead th {\n",
       "        text-align: right;\n",
       "    }\n",
       "</style>\n",
       "<table border=\"1\" class=\"dataframe\">\n",
       "  <thead>\n",
       "    <tr style=\"text-align: right;\">\n",
       "      <th></th>\n",
       "      <th>Date</th>\n",
       "      <th>Open</th>\n",
       "      <th>High</th>\n",
       "      <th>Low</th>\n",
       "      <th>Close</th>\n",
       "      <th>Adj Close</th>\n",
       "      <th>Volume</th>\n",
       "    </tr>\n",
       "  </thead>\n",
       "  <tbody>\n",
       "    <tr>\n",
       "      <th>0</th>\n",
       "      <td>1970-01-02</td>\n",
       "      <td>1.565972</td>\n",
       "      <td>1.565972</td>\n",
       "      <td>1.541667</td>\n",
       "      <td>1.545139</td>\n",
       "      <td>0.352593</td>\n",
       "      <td>475200</td>\n",
       "    </tr>\n",
       "    <tr>\n",
       "      <th>1</th>\n",
       "      <td>1970-01-05</td>\n",
       "      <td>1.545139</td>\n",
       "      <td>1.555556</td>\n",
       "      <td>1.531250</td>\n",
       "      <td>1.536458</td>\n",
       "      <td>0.350612</td>\n",
       "      <td>669600</td>\n",
       "    </tr>\n",
       "    <tr>\n",
       "      <th>2</th>\n",
       "      <td>1970-01-06</td>\n",
       "      <td>1.536458</td>\n",
       "      <td>1.548611</td>\n",
       "      <td>1.527778</td>\n",
       "      <td>1.548611</td>\n",
       "      <td>0.353385</td>\n",
       "      <td>568800</td>\n",
       "    </tr>\n",
       "    <tr>\n",
       "      <th>3</th>\n",
       "      <td>1970-01-07</td>\n",
       "      <td>1.548611</td>\n",
       "      <td>1.562500</td>\n",
       "      <td>1.531250</td>\n",
       "      <td>1.534722</td>\n",
       "      <td>0.350216</td>\n",
       "      <td>892800</td>\n",
       "    </tr>\n",
       "    <tr>\n",
       "      <th>4</th>\n",
       "      <td>1970-01-08</td>\n",
       "      <td>1.538194</td>\n",
       "      <td>1.555556</td>\n",
       "      <td>1.538194</td>\n",
       "      <td>1.545139</td>\n",
       "      <td>0.352593</td>\n",
       "      <td>496800</td>\n",
       "    </tr>\n",
       "  </tbody>\n",
       "</table>\n",
       "</div>"
      ],
      "text/plain": [
       "        Date      Open      High       Low     Close  Adj Close  Volume\n",
       "0 1970-01-02  1.565972  1.565972  1.541667  1.545139   0.352593  475200\n",
       "1 1970-01-05  1.545139  1.555556  1.531250  1.536458   0.350612  669600\n",
       "2 1970-01-06  1.536458  1.548611  1.527778  1.548611   0.353385  568800\n",
       "3 1970-01-07  1.548611  1.562500  1.531250  1.534722   0.350216  892800\n",
       "4 1970-01-08  1.538194  1.555556  1.538194  1.545139   0.352593  496800"
      ]
     },
     "execution_count": 268,
     "metadata": {},
     "output_type": "execute_result"
    }
   ],
   "source": [
    "df = pd.read_csv('Data/MRK.csv',\n",
    "                parse_dates=['Date'])\n",
    "df.head()"
   ]
  },
  {
   "cell_type": "code",
   "execution_count": 269,
   "metadata": {},
   "outputs": [
    {
     "name": "stdout",
     "output_type": "stream",
     "text": [
      "Dataframe shape: (12778, 7)\n",
      "Number of data examples: 12778\n",
      "Number of data features: 7\n",
      "Number of dimensions: 2\n"
     ]
    }
   ],
   "source": [
    "print('Dataframe shape:', df.shape)\n",
    "print('Number of data examples:', df.shape[0])\n",
    "print('Number of data features:', df.shape[1])\n",
    "print('Number of dimensions:', df.ndim)"
   ]
  },
  {
   "cell_type": "markdown",
   "metadata": {},
   "source": [
    "Because it may be time costly to plot almost 13,000 points, we will take every fifth data point and omit all others. The overall trend and result of our regression analysis will end up essentially the same. "
   ]
  },
  {
   "cell_type": "code",
   "execution_count": 270,
   "metadata": {},
   "outputs": [
    {
     "name": "stdout",
     "output_type": "stream",
     "text": [
      "Dataframe shape: (2556, 7)\n",
      "Number of data examples: 2556\n",
      "Number of data features: 7\n",
      "Number of dimensions: 2\n"
     ]
    }
   ],
   "source": [
    "df = df.iloc[::5, :] # Include every fifth row\n",
    "print('Dataframe shape:', df.shape)\n",
    "print('Number of data examples:', df.shape[0])\n",
    "print('Number of data features:', df.shape[1])\n",
    "print('Number of dimensions:', df.ndim)"
   ]
  },
  {
   "cell_type": "markdown",
   "metadata": {},
   "source": [
    "It can also be useful to display summary statistics. "
   ]
  },
  {
   "cell_type": "code",
   "execution_count": 271,
   "metadata": {},
   "outputs": [
    {
     "data": {
      "text/html": [
       "<div>\n",
       "<style scoped>\n",
       "    .dataframe tbody tr th:only-of-type {\n",
       "        vertical-align: middle;\n",
       "    }\n",
       "\n",
       "    .dataframe tbody tr th {\n",
       "        vertical-align: top;\n",
       "    }\n",
       "\n",
       "    .dataframe thead th {\n",
       "        text-align: right;\n",
       "    }\n",
       "</style>\n",
       "<table border=\"1\" class=\"dataframe\">\n",
       "  <thead>\n",
       "    <tr style=\"text-align: right;\">\n",
       "      <th></th>\n",
       "      <th>Open</th>\n",
       "      <th>High</th>\n",
       "      <th>Low</th>\n",
       "      <th>Close</th>\n",
       "      <th>Adj Close</th>\n",
       "      <th>Volume</th>\n",
       "    </tr>\n",
       "  </thead>\n",
       "  <tbody>\n",
       "    <tr>\n",
       "      <th>count</th>\n",
       "      <td>2556.000000</td>\n",
       "      <td>2556.000000</td>\n",
       "      <td>2556.000000</td>\n",
       "      <td>2556.000000</td>\n",
       "      <td>2556.000000</td>\n",
       "      <td>2.556000e+03</td>\n",
       "    </tr>\n",
       "    <tr>\n",
       "      <th>mean</th>\n",
       "      <td>29.052236</td>\n",
       "      <td>29.352241</td>\n",
       "      <td>28.757661</td>\n",
       "      <td>29.068578</td>\n",
       "      <td>18.613251</td>\n",
       "      <td>7.044703e+06</td>\n",
       "    </tr>\n",
       "    <tr>\n",
       "      <th>std</th>\n",
       "      <td>25.784099</td>\n",
       "      <td>26.056528</td>\n",
       "      <td>25.520080</td>\n",
       "      <td>25.805094</td>\n",
       "      <td>20.460078</td>\n",
       "      <td>6.082407e+06</td>\n",
       "    </tr>\n",
       "    <tr>\n",
       "      <th>min</th>\n",
       "      <td>1.090278</td>\n",
       "      <td>1.097222</td>\n",
       "      <td>1.076389</td>\n",
       "      <td>1.076389</td>\n",
       "      <td>0.247066</td>\n",
       "      <td>2.232000e+05</td>\n",
       "    </tr>\n",
       "    <tr>\n",
       "      <th>25%</th>\n",
       "      <td>2.431424</td>\n",
       "      <td>2.457465</td>\n",
       "      <td>2.415799</td>\n",
       "      <td>2.436632</td>\n",
       "      <td>0.719148</td>\n",
       "      <td>2.892650e+06</td>\n",
       "    </tr>\n",
       "    <tr>\n",
       "      <th>50%</th>\n",
       "      <td>25.000000</td>\n",
       "      <td>25.187500</td>\n",
       "      <td>24.781250</td>\n",
       "      <td>24.937500</td>\n",
       "      <td>10.072225</td>\n",
       "      <td>5.536700e+06</td>\n",
       "    </tr>\n",
       "    <tr>\n",
       "      <th>75%</th>\n",
       "      <td>50.570000</td>\n",
       "      <td>51.070000</td>\n",
       "      <td>50.045626</td>\n",
       "      <td>50.679998</td>\n",
       "      <td>29.361950</td>\n",
       "      <td>9.522075e+06</td>\n",
       "    </tr>\n",
       "    <tr>\n",
       "      <th>max</th>\n",
       "      <td>92.812500</td>\n",
       "      <td>93.250000</td>\n",
       "      <td>91.269997</td>\n",
       "      <td>92.687500</td>\n",
       "      <td>90.172379</td>\n",
       "      <td>6.659160e+07</td>\n",
       "    </tr>\n",
       "  </tbody>\n",
       "</table>\n",
       "</div>"
      ],
      "text/plain": [
       "              Open         High          Low        Close    Adj Close  \\\n",
       "count  2556.000000  2556.000000  2556.000000  2556.000000  2556.000000   \n",
       "mean     29.052236    29.352241    28.757661    29.068578    18.613251   \n",
       "std      25.784099    26.056528    25.520080    25.805094    20.460078   \n",
       "min       1.090278     1.097222     1.076389     1.076389     0.247066   \n",
       "25%       2.431424     2.457465     2.415799     2.436632     0.719148   \n",
       "50%      25.000000    25.187500    24.781250    24.937500    10.072225   \n",
       "75%      50.570000    51.070000    50.045626    50.679998    29.361950   \n",
       "max      92.812500    93.250000    91.269997    92.687500    90.172379   \n",
       "\n",
       "             Volume  \n",
       "count  2.556000e+03  \n",
       "mean   7.044703e+06  \n",
       "std    6.082407e+06  \n",
       "min    2.232000e+05  \n",
       "25%    2.892650e+06  \n",
       "50%    5.536700e+06  \n",
       "75%    9.522075e+06  \n",
       "max    6.659160e+07  "
      ]
     },
     "execution_count": 271,
     "metadata": {},
     "output_type": "execute_result"
    }
   ],
   "source": [
    "df.describe()"
   ]
  },
  {
   "cell_type": "markdown",
   "metadata": {},
   "source": [
    "They say a picture is worth a thousand words. We'll now visualize the data using matplotlib, which can easily pull information from a Pandas dataframe. \n",
    "\n",
    "A small caveat is that the independent (x) and dependent (y) variables must be specified in order to use the df.plot() function. For that, it is trivially easy to simply look at the column headers displayed in df.head(). \n",
    "\n",
    "Another handy way to access these headers is by calling the columns attribute of the dataframe using df.columns, as seen below. "
   ]
  },
  {
   "cell_type": "code",
   "execution_count": 272,
   "metadata": {},
   "outputs": [
    {
     "data": {
      "text/plain": [
       "Index(['Date', 'Open', 'High', 'Low', 'Close', 'Adj Close', 'Volume'], dtype='object')"
      ]
     },
     "execution_count": 272,
     "metadata": {},
     "output_type": "execute_result"
    }
   ],
   "source": [
    "df.columns # Displays column headers needed for plotting"
   ]
  },
  {
   "cell_type": "markdown",
   "metadata": {},
   "source": [
    "We will plot stock close values from all time (1970 until present) with date as the independent variable. "
   ]
  },
  {
   "cell_type": "code",
   "execution_count": 273,
   "metadata": {},
   "outputs": [
    {
     "data": {
      "image/png": "[encoded data removed]",
      "text/plain": [
       "<Figure size 864x576 with 1 Axes>"
      ]
     },
     "metadata": {},
     "output_type": "display_data"
    }
   ],
   "source": [
    "fig, ax = plt.subplots(figsize=(12,8), facecolor = 'white') # Sets plot size and color behind axes\n",
    "ax.set_title('MRK Close Value vs. Date, 1970 - 2020') # Title\n",
    "\n",
    "date_form = DateFormatter(\"%Y\") # Formats x axis dates\n",
    "ax.xaxis.set_major_formatter(date_form)\n",
    "\n",
    "loc = plticker.MultipleLocator(base=365.0*4) # Set interval / frequency of x axis ticks\n",
    "ax.xaxis.set_major_locator(loc) \n",
    "\n",
    "df.plot(kind = 'scatter', x = 'Date', y = 'Close', ax = ax, s = 1) # Plot data\n",
    "\n",
    "plt.show() # Display plot"
   ]
  },
  {
   "cell_type": "markdown",
   "metadata": {},
   "source": []
  },
  {
   "cell_type": "markdown",
   "metadata": {},
   "source": [
    "# Set Parameters and Hyperparameters"
   ]
  },
  {
   "cell_type": "code",
   "execution_count": 274,
   "metadata": {},
   "outputs": [],
   "source": [
    "# Create numpy array 'X' which is the data matrix x with an extra column of ones\n",
    "# This is done for the purposes of making matrix dimensions match. "
   ]
  },
  {
   "cell_type": "markdown",
   "metadata": {},
   "source": [
    "# Define Cost Function"
   ]
  },
  {
   "cell_type": "code",
   "execution_count": 275,
   "metadata": {},
   "outputs": [],
   "source": [
    "def compute_cost(x, y, weights):\n",
    "    \"\"\"\n",
    "    Calculate the cost function. \n",
    "    \n",
    "    Will be performed iteratively as gradient descent runs. \n",
    "\n",
    "    Args:\n",
    "        x (type): \n",
    "        y (type): \n",
    "        weights (type):\n",
    "\n",
    "    Returns:\n",
    "        J: cost\n",
    "        \n",
    "    \"\"\"      \n",
    "    num_samples = len(y)\n",
    "    hypothesis = np.dot(x, weights)\n",
    "    \n",
    "    J = 1 / (2 * num_samples) * (sum(sum((hypothesis - y) ** 2)))\n",
    "    \n",
    "    return J"
   ]
  },
  {
   "cell_type": "markdown",
   "metadata": {},
   "source": [
    "# Define Line Plotting Function"
   ]
  },
  {
   "cell_type": "code",
   "execution_count": 276,
   "metadata": {},
   "outputs": [
    {
     "name": "stdout",
     "output_type": "stream",
     "text": [
      "line [[150]]\n"
     ]
    },
    {
     "data": {
      "image/png": "[encoded data removed]",
      "text/plain": [
       "<Figure size 432x288 with 1 Axes>"
      ]
     },
     "metadata": {
      "needs_background": "light"
     },
     "output_type": "display_data"
    }
   ],
   "source": [
    "%matplotlib inline\n",
    "\n",
    "def plot_line(x, weights):\n",
    "    \"\"\"\n",
    "    Plots a line. \n",
    "\n",
    "    Args:\n",
    "        x (type): \n",
    "        weights (type): \n",
    "\n",
    "    Returns:\n",
    "        None\n",
    "\n",
    "    \"\"\" \n",
    "    line = np.dot(x, weights)\n",
    "    print('line', line)\n",
    "    plt.plot([1, 2, 3, 4])\n",
    "    plt.ylabel('some numbers')\n",
    "    plt.show()\n",
    "\n",
    "j = np.array([[10,10,10,10, 10]])\n",
    "weights = np.array([[1],[2],[3],[4],[5]])\n",
    "plot_line(j, weights)"
   ]
  },
  {
   "cell_type": "markdown",
   "metadata": {},
   "source": [
    "# Gradient Descent"
   ]
  },
  {
   "cell_type": "code",
   "execution_count": 277,
   "metadata": {},
   "outputs": [],
   "source": [
    "def gradient_descent(x, y, weights, learning_rate, epochs):\n",
    "    \"\"\"\n",
    "    Performs gradient descent. \n",
    "\n",
    "    Iteratively fit a regression line and calculate loss\n",
    "\n",
    "    Args:\n",
    "        x (type): \n",
    "        y (type): \n",
    "        empty_matrix (type):\n",
    "        learning_rate (type):\n",
    "        epochs (type):\n",
    "\n",
    "    Returns:\n",
    "        weights: description\n",
    "        cost_history: description\n",
    "\n",
    "    \"\"\"   \n",
    "    num_samples = len(y)\n",
    "    cost_history = np.zeros([epochs, 1])\n",
    "    \n",
    "    for i in range(epochs):\n",
    "        hypothesis = np.dot(x, weights)\n",
    "\n",
    "        weight1 = weights[0] - learning_rate * (1/num_samples) * sum(sum(hypothesis - y))\n",
    "        weight2 = weights[1] - learning_rate * (1/num_samples) * sum(sum(hypothesis - y)) * j[:,1]\n",
    "        \n",
    "        weights[0] = weight1\n",
    "        weights[1] = weight2\n",
    "        \n",
    "        print('SHAPE:', weights.shape)\n",
    "        print('W1:', weights[0])\n",
    "        print('W2:', weights[1])\n",
    "        \n",
    "        cost_history[i] = compute_cost(x, y, weights)\n",
    "        # plot_line(x, weights)\n",
    "\n",
    "    return weights, cost_history"
   ]
  },
  {
   "cell_type": "code",
   "execution_count": 278,
   "metadata": {},
   "outputs": [
    {
     "name": "stdout",
     "output_type": "stream",
     "text": [
      "J.SHAPE: (1, 5)\n",
      "WHEIGHTS.SHAPE: (5, 1)\n",
      "[[150]]\n",
      "SHAPE: (5, 1)\n",
      "W1: [-3499]\n",
      "W2: [-34998]\n",
      "line [[-384850]]\n"
     ]
    },
    {
     "name": "stderr",
     "output_type": "stream",
     "text": [
      "D:\\Anaconda\\lib\\site-packages\\ipykernel_launcher.py:19: RuntimeWarning: overflow encountered in int_scalars\n"
     ]
    },
    {
     "data": {
      "image/png": "[encoded data removed]",
      "text/plain": [
       "<Figure size 432x288 with 1 Axes>"
      ]
     },
     "metadata": {
      "needs_background": "light"
     },
     "output_type": "display_data"
    },
    {
     "name": "stdout",
     "output_type": "stream",
     "text": [
      "SHAPE: (5, 1)\n",
      "W1: [9618001]\n",
      "W2: [96180002]\n",
      "line [[1057980150]]\n"
     ]
    },
    {
     "data": {
      "image/png": "[encoded data removed]",
      "text/plain": [
       "<Figure size 432x288 with 1 Axes>"
      ]
     },
     "metadata": {
      "needs_background": "light"
     },
     "output_type": "display_data"
    },
    {
     "name": "stdout",
     "output_type": "stream",
     "text": [
      "SHAPE: (5, 1)\n",
      "W1: [-2147483648]\n",
      "W2: [-2147483648]\n",
      "line [[120]]\n"
     ]
    },
    {
     "name": "stderr",
     "output_type": "stream",
     "text": [
      "D:\\Anaconda\\lib\\site-packages\\ipykernel_launcher.py:25: RuntimeWarning: overflow encountered in long_scalars\n",
      "D:\\Anaconda\\lib\\site-packages\\ipykernel_launcher.py:26: RuntimeWarning: overflow encountered in long_scalars\n"
     ]
    },
    {
     "data": {
      "image/png": "[encoded data removed]",
      "text/plain": [
       "<Figure size 432x288 with 1 Axes>"
      ]
     },
     "metadata": {
      "needs_background": "light"
     },
     "output_type": "display_data"
    },
    {
     "name": "stdout",
     "output_type": "stream",
     "text": [
      "SHAPE: (5, 1)\n",
      "W1: [-2147483648]\n",
      "W2: [-2147483648]\n",
      "line [[120]]\n"
     ]
    },
    {
     "data": {
      "image/png": "[encoded data removed]",
      "text/plain": [
       "<Figure size 432x288 with 1 Axes>"
      ]
     },
     "metadata": {
      "needs_background": "light"
     },
     "output_type": "display_data"
    },
    {
     "name": "stdout",
     "output_type": "stream",
     "text": [
      "SHAPE: (5, 1)\n",
      "W1: [-2147483648]\n",
      "W2: [-2147483648]\n",
      "line [[120]]\n"
     ]
    },
    {
     "data": {
      "image/png": "[encoded data removed]",
      "text/plain": [
       "<Figure size 432x288 with 1 Axes>"
      ]
     },
     "metadata": {
      "needs_background": "light"
     },
     "output_type": "display_data"
    },
    {
     "name": "stdout",
     "output_type": "stream",
     "text": [
      "SHAPE: (5, 1)\n",
      "W1: [-2147483648]\n",
      "W2: [-2147483648]\n",
      "line [[120]]\n"
     ]
    },
    {
     "data": {
      "image/png": "[encoded data removed]",
      "text/plain": [
       "<Figure size 432x288 with 1 Axes>"
      ]
     },
     "metadata": {
      "needs_background": "light"
     },
     "output_type": "display_data"
    },
    {
     "data": {
      "text/plain": [
       "(array([[-2147483648],\n",
       "        [-2147483648],\n",
       "        [          3],\n",
       "        [          4],\n",
       "        [          5]]),\n",
       " array([[9.25861544e+08],\n",
       "        [8.12967912e+08],\n",
       "        [3.02500000e+04],\n",
       "        [3.02500000e+04],\n",
       "        [3.02500000e+04],\n",
       "        [3.02500000e+04]]))"
      ]
     },
     "execution_count": 278,
     "metadata": {},
     "output_type": "execute_result"
    }
   ],
   "source": [
    "y = np.array([[10,10,10,10, 10]])\n",
    "j = np.array([[10,10,10,10, 10]])\n",
    "weights = np.array([[1],[2],[3],[4],[5]])\n",
    "print('J.SHAPE:', j.shape)\n",
    "print('WHEIGHTS.SHAPE:',weights.shape)\n",
    "print(np.dot(j,weights))\n",
    "gradient_descent(j, y, weights, 5, 6)"
   ]
  },
  {
   "cell_type": "code",
   "execution_count": 279,
   "metadata": {},
   "outputs": [
    {
     "name": "stdout",
     "output_type": "stream",
     "text": [
      "[[10 10 10 10 10]]\n",
      "[[120]]\n",
      "B: [[-110 -110 -110 -110 -110]]\n",
      "-550\n"
     ]
    },
    {
     "data": {
      "text/plain": [
       "(5,)"
      ]
     },
     "execution_count": 279,
     "metadata": {},
     "output_type": "execute_result"
    }
   ],
   "source": [
    "print(j)\n",
    "y = np.array([10,10,10,10, 10])\n",
    "hypothesis = np.dot(j, weights)\n",
    "print(hypothesis)\n",
    "b = y - hypothesis\n",
    "print('B:',b)\n",
    "print(sum(sum(b)))\n",
    "y.shape"
   ]
  },
  {
   "cell_type": "code",
   "execution_count": 280,
   "metadata": {},
   "outputs": [
    {
     "name": "stdout",
     "output_type": "stream",
     "text": [
      "(1, 5)\n",
      "(5, 1)\n",
      "[[150]]\n",
      "(1, 1)\n"
     ]
    }
   ],
   "source": [
    "j = np.array([[10,10,10,10, 10]])\n",
    "print(j.shape)\n",
    "weights = np.array([[1],[2],[3],[4],[5]])\n",
    "print(weights.shape)\n",
    "h = np.dot(j, weights)\n",
    "print(h)\n",
    "print(h.shape)"
   ]
  },
  {
   "cell_type": "code",
   "execution_count": 281,
   "metadata": {},
   "outputs": [
    {
     "name": "stdout",
     "output_type": "stream",
     "text": [
      "Hypothesis: [[150]]\n",
      "Type: <class 'numpy.ndarray'>\n",
      "Cost: 9800.0\n",
      "Type: <class 'numpy.float64'>\n"
     ]
    }
   ],
   "source": [
    "num_samples = len(y)\n",
    "hypothesis = np.dot(j, weights)\n",
    "print('Hypothesis:', hypothesis)\n",
    "print('Type:', type(hypothesis))\n",
    "\n",
    "cost = 1 / (2 * num_samples) * (sum(sum((hypothesis - y) ** 2)))\n",
    "print('Cost:', cost)\n",
    "print('Type:', type(cost))"
   ]
  }
 ],
 "metadata": {
  "kernelspec": {
   "display_name": "Python 3",
   "language": "python",
   "name": "python3"
  },
  "language_info": {
   "codemirror_mode": {
    "name": "ipython",
    "version": 3
   },
   "file_extension": ".py",
   "mimetype": "text/x-python",
   "name": "python",
   "nbconvert_exporter": "python",
   "pygments_lexer": "ipython3",
   "version": "3.7.6"
  }
 },
 "nbformat": 4,
 "nbformat_minor": 4
}
