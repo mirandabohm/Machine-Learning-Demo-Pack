{
 "cells": [
  {
   "cell_type": "markdown",
   "id": "626fb8d3",
   "metadata": {},
   "source": [
    "K-Nearest Neighbors\n",
    "\n",
    "The classic \"lazy,\" instance-based model, KNN assumes meaning is to be found in the identity and proximity of neighbor samples."
   ]
  },
  {
   "cell_type": "code",
   "execution_count": null,
   "id": "492e2fac",
   "metadata": {},
   "outputs": [],
   "source": []
  }
 ],
 "metadata": {
  "kernelspec": {
   "display_name": "Python 3 (ipykernel)",
   "language": "python",
   "name": "python3"
  },
  "language_info": {
   "codemirror_mode": {
    "name": "ipython",
    "version": 3
   },
   "file_extension": ".py",
   "mimetype": "text/x-python",
   "name": "python",
   "nbconvert_exporter": "python",
   "pygments_lexer": "ipython3",
   "version": "3.7.6"
  }
 },
 "nbformat": 4,
 "nbformat_minor": 5
}
