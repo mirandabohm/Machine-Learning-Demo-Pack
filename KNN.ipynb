{
 "cells": [
  {
   "cell_type": "markdown",
   "id": "626fb8d3",
   "metadata": {},
   "source": [
    "K-Nearest Neighbors\n",
    "\n",
    "The classic \"lazy,\" instance-based model, KNN assumes meaning is to be found in the identity and proximity of neighbor samples."
   ]
  },
  {
   "cell_type": "markdown",
   "id": "8a1e6ecf",
   "metadata": {},
   "source": [
    "***Setup***\n",
    "\n",
    "Import essential libraries for data manipulation, visualization, and model implementation."
   ]
  },
  {
   "cell_type": "code",
   "execution_count": 17,
   "id": "6038cb09",
   "metadata": {},
   "outputs": [],
   "source": [
    "# Importing Libraries\n",
    "import numpy as np\n",
    "import pandas as pd\n",
    "import matplotlib.pyplot as plt\n",
    "from sklearn.datasets import make_classification\n",
    "from sklearn.model_selection import train_test_split\n",
    "from sklearn.metrics import accuracy_score, confusion_matrix, classification_report"
   ]
  },
  {
   "cell_type": "markdown",
   "id": "66b9b1c8",
   "metadata": {},
   "source": [
    "***Data Generation***\n",
    "\n",
    "Define a function called \"generate_data\" that creates a toy two-class dataset with no redundant features. The set will contain 300 examples, each possessing two features. \n",
    "\n",
    "Output:\n",
    "X: A 2D array of shape (n_samples, n_features) representing the feature values.\n",
    "y: A 1D array of shape (n_samples,) containing the class labels."
   ]
  },
  {
   "cell_type": "code",
   "execution_count": 18,
   "id": "146ee54a",
   "metadata": {},
   "outputs": [],
   "source": [
    "def generate_data():\n",
    "    X, y = make_classification(n_samples=300, n_features=2, n_classes=2, n_informative=2, \n",
    "                                n_redundant=0, random_state=42)\n",
    "    return X, y"
   ]
  },
  {
   "cell_type": "code",
   "execution_count": 19,
   "id": "9de4745f",
   "metadata": {},
   "outputs": [],
   "source": [
    "def plot_data(X, y):\n",
    "    plt.scatter(X[y == 0][:, 0], X[y == 0][:, 1], label='Class 0', c='blue')\n",
    "    plt.scatter(X[y == 1][:, 0], X[y == 1][:, 1], label='Class 1', c='red')\n",
    "    plt.title(\"Synthetic Dataset\")\n",
    "    plt.xlabel(\"Feature 1\")\n",
    "    plt.ylabel(\"Feature 2\")\n",
    "    plt.legend()\n",
    "    plt.show()"
   ]
  }
 ],
 "metadata": {
  "kernelspec": {
   "display_name": "tfgpu",
   "language": "python",
   "name": "python3"
  },
  "language_info": {
   "codemirror_mode": {
    "name": "ipython",
    "version": 3
   },
   "file_extension": ".py",
   "mimetype": "text/x-python",
   "name": "python",
   "nbconvert_exporter": "python",
   "pygments_lexer": "ipython3",
   "version": "3.10.13"
  }
 },
 "nbformat": 4,
 "nbformat_minor": 5
}
